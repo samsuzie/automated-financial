{
  "nbformat": 4,
  "nbformat_minor": 0,
  "metadata": {
    "colab": {
      "provenance": [],
      "include_colab_link": true
    },
    "kernelspec": {
      "name": "python3",
      "display_name": "Python 3"
    },
    "language_info": {
      "name": "python"
    }
  },
  "cells": [
    {
      "cell_type": "markdown",
      "metadata": {
        "id": "view-in-github",
        "colab_type": "text"
      },
      "source": [
        "<a href=\"https://colab.research.google.com/github/samsuzie/automated-financial/blob/main/Future_Funds.ipynb\" target=\"_parent\"><img src=\"https://colab.research.google.com/assets/colab-badge.svg\" alt=\"Open In Colab\"/></a>"
      ]
    },
    {
      "cell_type": "code",
      "execution_count": null,
      "metadata": {
        "colab": {
          "base_uri": "https://localhost:8080/"
        },
        "id": "I5I6GSAI8eq2",
        "outputId": "efc9e587-6abd-45a8-d49e-2d0645423799"
      },
      "outputs": [
        {
          "output_type": "stream",
          "name": "stdout",
          "text": [
            "Drive already mounted at /content/drive; to attempt to forcibly remount, call drive.mount(\"/content/drive\", force_remount=True).\n"
          ]
        }
      ],
      "source": [
        "from google.colab import drive\n",
        "drive.mount('/content/drive')"
      ]
    },
    {
      "cell_type": "code",
      "source": [
        "! apt-get install git"
      ],
      "metadata": {
        "id": "n3-XSYbq93tr",
        "colab": {
          "base_uri": "https://localhost:8080/"
        },
        "outputId": "05d5f62b-5889-464b-ca4c-49bc2215d101"
      },
      "execution_count": null,
      "outputs": [
        {
          "output_type": "stream",
          "name": "stdout",
          "text": [
            "Reading package lists... Done\n",
            "Building dependency tree... Done\n",
            "Reading state information... Done\n",
            "git is already the newest version (1:2.34.1-1ubuntu1.11).\n",
            "0 upgraded, 0 newly installed, 0 to remove and 45 not upgraded.\n"
          ]
        }
      ]
    },
    {
      "cell_type": "code",
      "source": [
        "!git clone https://github.com/samsuzie/automated-financial"
      ],
      "metadata": {
        "colab": {
          "base_uri": "https://localhost:8080/"
        },
        "id": "qGcuIvO__JGo",
        "outputId": "c64563d2-70e0-4753-c4f9-42dbb0ddfe05"
      },
      "execution_count": null,
      "outputs": [
        {
          "output_type": "stream",
          "name": "stdout",
          "text": [
            "Cloning into 'automated-financial'...\n",
            "remote: Enumerating objects: 9, done.\u001b[K\n",
            "remote: Counting objects: 100% (9/9), done.\u001b[K\n",
            "remote: Compressing objects: 100% (7/7), done.\u001b[K\n",
            "remote: Total 9 (delta 0), reused 0 (delta 0), pack-reused 0\u001b[K\n",
            "Receiving objects: 100% (9/9), 468.09 KiB | 6.59 MiB/s, done.\n"
          ]
        }
      ]
    },
    {
      "cell_type": "code",
      "source": [
        "import numpy as np"
      ],
      "metadata": {
        "id": "rlgrw0ya_Sin"
      },
      "execution_count": null,
      "outputs": []
    },
    {
      "cell_type": "code",
      "source": [
        "import pandas as pd\n",
        "import seaborn as sns"
      ],
      "metadata": {
        "id": "IZKhjqxKmX7o"
      },
      "execution_count": null,
      "outputs": []
    },
    {
      "cell_type": "code",
      "source": [
        "df = pd.read_csv(\"GOLDdata.csv\")"
      ],
      "metadata": {
        "id": "CE0G8zDkmeAN"
      },
      "execution_count": null,
      "outputs": []
    },
    {
      "cell_type": "code",
      "source": [
        "df['Date'].value_counts()"
      ],
      "metadata": {
        "colab": {
          "base_uri": "https://localhost:8080/"
        },
        "id": "6R2Jz0HGmjOv",
        "outputId": "475b069a-ec64-4450-9b43-85b50a859e02"
      },
      "execution_count": null,
      "outputs": [
        {
          "output_type": "execute_result",
          "data": {
            "text/plain": [
              "Date\n",
              "10/27/2023    1\n",
              "12-07-2015    1\n",
              "12/18/2015    1\n",
              "12/17/2015    1\n",
              "12/16/2015    1\n",
              "             ..\n",
              "11/25/2019    1\n",
              "11/22/2019    1\n",
              "11/21/2019    1\n",
              "11/20/2019    1\n",
              "01-03-2012    1\n",
              "Name: count, Length: 3060, dtype: int64"
            ]
          },
          "metadata": {},
          "execution_count": 24
        }
      ]
    },
    {
      "cell_type": "code",
      "source": [
        "sns.heatmap(df.isnull(),yticklabels = False,cbar = False,cmap = None)"
      ],
      "metadata": {
        "colab": {
          "base_uri": "https://localhost:8080/",
          "height": 448
        },
        "id": "fzaEo8I0mmHf",
        "outputId": "9ae5bc9b-3438-452b-acba-291530bdbfbd"
      },
      "execution_count": null,
      "outputs": [
        {
          "output_type": "execute_result",
          "data": {
            "text/plain": [
              "<Axes: >"
            ]
          },
          "metadata": {},
          "execution_count": 9
        },
        {
          "output_type": "display_data",
          "data": {
            "text/plain": [
              "<Figure size 640x480 with 1 Axes>"
            ],
            "image/png": "[encoded data removed]"
          },
          "metadata": {}
        }
      ]
    },
    {
      "cell_type": "code",
      "source": [
        "def convert_dates(Date):\n",
        "    try:\n",
        "        return pd.to_datetime(Date, format='%d-%m-%Y')\n",
        "    except ValueError:\n",
        "        return pd.to_datetime(Date, format='%m/%d/%Y')\n",
        "df['Date'] = df['Date'].apply(convert_dates)"
      ],
      "metadata": {
        "id": "R79odT0TyQC9"
      },
      "execution_count": null,
      "outputs": []
    },
    {
      "cell_type": "code",
      "source": [
        "df['Date'] = df['Date'].dt.strftime('%Y-%m-%d')"
      ],
      "metadata": {
        "id": "Q0gJmuh33681"
      },
      "execution_count": null,
      "outputs": []
    },
    {
      "cell_type": "code",
      "source": [
        "df"
      ],
      "metadata": {
        "colab": {
          "base_uri": "https://localhost:8080/",
          "height": 423
        },
        "id": "01aimBws4D6I",
        "outputId": "92b13a64-c6a2-4a11-e1a5-e9661acfb452"
      },
      "execution_count": null,
      "outputs": [
        {
          "output_type": "execute_result",
          "data": {
            "text/plain": [
              "            Date   Price    Open    High     Low\n",
              "0     2023-10-27  1998.5  1995.0  2019.7  1986.4\n",
              "1     2023-10-26  1997.4  1991.2  2003.7  1981.6\n",
              "2     2023-10-25  1994.9  1982.7  1998.6  1973.6\n",
              "3     2023-10-24  1986.1  1984.1  1992.0  1964.6\n",
              "4     2023-10-23  1987.8  1987.7  1994.3  1971.0\n",
              "...          ...     ...     ...     ...     ...\n",
              "3055  2012-09-01  1608.1  1617.7  1624.6  1605.7\n",
              "3056  2012-06-01  1616.8  1622.4  1632.3  1609.0\n",
              "3057  2012-05-01  1620.1  1614.4  1626.8  1597.7\n",
              "3058  2012-04-01  1612.7  1604.9  1619.8  1593.8\n",
              "3059  2012-03-01  1600.5  1571.0  1608.7  1566.8\n",
              "\n",
              "[3060 rows x 5 columns]"
            ],
            "text/html": [
              "\n",
              "  <div id=\"df-27acc359-cdf8-4faf-8692-b90664ea06ad\" class=\"colab-df-container\">\n",
              "    <div>\n",
              "<style scoped>\n",
              "    .dataframe tbody tr th:only-of-type {\n",
              "        vertical-align: middle;\n",
              "    }\n",
              "\n",
              "    .dataframe tbody tr th {\n",
              "        vertical-align: top;\n",
              "    }\n",
              "\n",
              "    .dataframe thead th {\n",
              "        text-align: right;\n",
              "    }\n",
              "</style>\n",
              "<table border=\"1\" class=\"dataframe\">\n",
              "  <thead>\n",
              "    <tr style=\"text-align: right;\">\n",
              "      <th></th>\n",
              "      <th>Date</th>\n",
              "      <th>Price</th>\n",
              "      <th>Open</th>\n",
              "      <th>High</th>\n",
              "      <th>Low</th>\n",
              "    </tr>\n",
              "  </thead>\n",
              "  <tbody>\n",
              "    <tr>\n",
              "      <th>0</th>\n",
              "      <td>2023-10-27</td>\n",
              "      <td>1998.5</td>\n",
              "      <td>1995.0</td>\n",
              "      <td>2019.7</td>\n",
              "      <td>1986.4</td>\n",
              "    </tr>\n",
              "    <tr>\n",
              "      <th>1</th>\n",
              "      <td>2023-10-26</td>\n",
              "      <td>1997.4</td>\n",
              "      <td>1991.2</td>\n",
              "      <td>2003.7</td>\n",
              "      <td>1981.6</td>\n",
              "    </tr>\n",
              "    <tr>\n",
              "      <th>2</th>\n",
              "      <td>2023-10-25</td>\n",
              "      <td>1994.9</td>\n",
              "      <td>1982.7</td>\n",
              "      <td>1998.6</td>\n",
              "      <td>1973.6</td>\n",
              "    </tr>\n",
              "    <tr>\n",
              "      <th>3</th>\n",
              "      <td>2023-10-24</td>\n",
              "      <td>1986.1</td>\n",
              "      <td>1984.1</td>\n",
              "      <td>1992.0</td>\n",
              "      <td>1964.6</td>\n",
              "    </tr>\n",
              "    <tr>\n",
              "      <th>4</th>\n",
              "      <td>2023-10-23</td>\n",
              "      <td>1987.8</td>\n",
              "      <td>1987.7</td>\n",
              "      <td>1994.3</td>\n",
              "      <td>1971.0</td>\n",
              "    </tr>\n",
              "    <tr>\n",
              "      <th>...</th>\n",
              "      <td>...</td>\n",
              "      <td>...</td>\n",
              "      <td>...</td>\n",
              "      <td>...</td>\n",
              "      <td>...</td>\n",
              "    </tr>\n",
              "    <tr>\n",
              "      <th>3055</th>\n",
              "      <td>2012-09-01</td>\n",
              "      <td>1608.1</td>\n",
              "      <td>1617.7</td>\n",
              "      <td>1624.6</td>\n",
              "      <td>1605.7</td>\n",
              "    </tr>\n",
              "    <tr>\n",
              "      <th>3056</th>\n",
              "      <td>2012-06-01</td>\n",
              "      <td>1616.8</td>\n",
              "      <td>1622.4</td>\n",
              "      <td>1632.3</td>\n",
              "      <td>1609.0</td>\n",
              "    </tr>\n",
              "    <tr>\n",
              "      <th>3057</th>\n",
              "      <td>2012-05-01</td>\n",
              "      <td>1620.1</td>\n",
              "      <td>1614.4</td>\n",
              "      <td>1626.8</td>\n",
              "      <td>1597.7</td>\n",
              "    </tr>\n",
              "    <tr>\n",
              "      <th>3058</th>\n",
              "      <td>2012-04-01</td>\n",
              "      <td>1612.7</td>\n",
              "      <td>1604.9</td>\n",
              "      <td>1619.8</td>\n",
              "      <td>1593.8</td>\n",
              "    </tr>\n",
              "    <tr>\n",
              "      <th>3059</th>\n",
              "      <td>2012-03-01</td>\n",
              "      <td>1600.5</td>\n",
              "      <td>1571.0</td>\n",
              "      <td>1608.7</td>\n",
              "      <td>1566.8</td>\n",
              "    </tr>\n",
              "  </tbody>\n",
              "</table>\n",
              "<p>3060 rows × 5 columns</p>\n",
              "</div>\n",
              "    <div class=\"colab-df-buttons\">\n",
              "\n",
              "  <div class=\"colab-df-container\">\n",
              "    <button class=\"colab-df-convert\" onclick=\"convertToInteractive('df-27acc359-cdf8-4faf-8692-b90664ea06ad')\"\n",
              "            title=\"Convert this dataframe to an interactive table.\"\n",
              "            style=\"display:none;\">\n",
              "\n",
              "  <svg xmlns=\"http://www.w3.org/2000/svg\" height=\"24px\" viewBox=\"0 -960 960 960\">\n",
              "    <path d=\"M120-120v-720h720v720H120Zm60-500h600v-160H180v160Zm220 220h160v-160H400v160Zm0 220h160v-160H400v160ZM180-400h160v-160H180v160Zm440 0h160v-160H620v160ZM180-180h160v-160H180v160Zm440 0h160v-160H620v160Z\"/>\n",
              "  </svg>\n",
              "    </button>\n",
              "\n",
              "  <style>\n",
              "    .colab-df-container {\n",
              "      display:flex;\n",
              "      gap: 12px;\n",
              "    }\n",
              "\n",
              "    .colab-df-convert {\n",
              "      background-color: #E8F0FE;\n",
              "      border: none;\n",
              "      border-radius: 50%;\n",
              "      cursor: pointer;\n",
              "      display: none;\n",
              "      fill: #1967D2;\n",
              "      height: 32px;\n",
              "      padding: 0 0 0 0;\n",
              "      width: 32px;\n",
              "    }\n",
              "\n",
              "    .colab-df-convert:hover {\n",
              "      background-color: #E2EBFA;\n",
              "      box-shadow: 0px 1px 2px rgba(60, 64, 67, 0.3), 0px 1px 3px 1px rgba(60, 64, 67, 0.15);\n",
              "      fill: #174EA6;\n",
              "    }\n",
              "\n",
              "    .colab-df-buttons div {\n",
              "      margin-bottom: 4px;\n",
              "    }\n",
              "\n",
              "    [theme=dark] .colab-df-convert {\n",
              "      background-color: #3B4455;\n",
              "      fill: #D2E3FC;\n",
              "    }\n",
              "\n",
              "    [theme=dark] .colab-df-convert:hover {\n",
              "      background-color: #434B5C;\n",
              "      box-shadow: 0px 1px 3px 1px rgba(0, 0, 0, 0.15);\n",
              "      filter: drop-shadow(0px 1px 2px rgba(0, 0, 0, 0.3));\n",
              "      fill: #FFFFFF;\n",
              "    }\n",
              "  </style>\n",
              "\n",
              "    <script>\n",
              "      const buttonEl =\n",
              "        document.querySelector('#df-27acc359-cdf8-4faf-8692-b90664ea06ad button.colab-df-convert');\n",
              "      buttonEl.style.display =\n",
              "        google.colab.kernel.accessAllowed ? 'block' : 'none';\n",
              "\n",
              "      async function convertToInteractive(key) {\n",
              "        const element = document.querySelector('#df-27acc359-cdf8-4faf-8692-b90664ea06ad');\n",
              "        const dataTable =\n",
              "          await google.colab.kernel.invokeFunction('convertToInteractive',\n",
              "                                                    [key], {});\n",
              "        if (!dataTable) return;\n",
              "\n",
              "        const docLinkHtml = 'Like what you see? Visit the ' +\n",
              "          '<a target=\"_blank\" href=https://colab.research.google.com/notebooks/data_table.ipynb>data table notebook</a>'\n",
              "          + ' to learn more about interactive tables.';\n",
              "        element.innerHTML = '';\n",
              "        dataTable['output_type'] = 'display_data';\n",
              "        await google.colab.output.renderOutput(dataTable, element);\n",
              "        const docLink = document.createElement('div');\n",
              "        docLink.innerHTML = docLinkHtml;\n",
              "        element.appendChild(docLink);\n",
              "      }\n",
              "    </script>\n",
              "  </div>\n",
              "\n",
              "\n",
              "<div id=\"df-dc8db397-9b8f-40f0-8f43-538b1497cd18\">\n",
              "  <button class=\"colab-df-quickchart\" onclick=\"quickchart('df-dc8db397-9b8f-40f0-8f43-538b1497cd18')\"\n",
              "            title=\"Suggest charts\"\n",
              "            style=\"display:none;\">\n",
              "\n",
              "<svg xmlns=\"http://www.w3.org/2000/svg\" height=\"24px\"viewBox=\"0 0 24 24\"\n",
              "     width=\"24px\">\n",
              "    <g>\n",
              "        <path d=\"M19 3H5c-1.1 0-2 .9-2 2v14c0 1.1.9 2 2 2h14c1.1 0 2-.9 2-2V5c0-1.1-.9-2-2-2zM9 17H7v-7h2v7zm4 0h-2V7h2v10zm4 0h-2v-4h2v4z\"/>\n",
              "    </g>\n",
              "</svg>\n",
              "  </button>\n",
              "\n",
              "<style>\n",
              "  .colab-df-quickchart {\n",
              "      --bg-color: #E8F0FE;\n",
              "      --fill-color: #1967D2;\n",
              "      --hover-bg-color: #E2EBFA;\n",
              "      --hover-fill-color: #174EA6;\n",
              "      --disabled-fill-color: #AAA;\n",
              "      --disabled-bg-color: #DDD;\n",
              "  }\n",
              "\n",
              "  [theme=dark] .colab-df-quickchart {\n",
              "      --bg-color: #3B4455;\n",
              "      --fill-color: #D2E3FC;\n",
              "      --hover-bg-color: #434B5C;\n",
              "      --hover-fill-color: #FFFFFF;\n",
              "      --disabled-bg-color: #3B4455;\n",
              "      --disabled-fill-color: #666;\n",
              "  }\n",
              "\n",
              "  .colab-df-quickchart {\n",
              "    background-color: var(--bg-color);\n",
              "    border: none;\n",
              "    border-radius: 50%;\n",
              "    cursor: pointer;\n",
              "    display: none;\n",
              "    fill: var(--fill-color);\n",
              "    height: 32px;\n",
              "    padding: 0;\n",
              "    width: 32px;\n",
              "  }\n",
              "\n",
              "  .colab-df-quickchart:hover {\n",
              "    background-color: var(--hover-bg-color);\n",
              "    box-shadow: 0 1px 2px rgba(60, 64, 67, 0.3), 0 1px 3px 1px rgba(60, 64, 67, 0.15);\n",
              "    fill: var(--button-hover-fill-color);\n",
              "  }\n",
              "\n",
              "  .colab-df-quickchart-complete:disabled,\n",
              "  .colab-df-quickchart-complete:disabled:hover {\n",
              "    background-color: var(--disabled-bg-color);\n",
              "    fill: var(--disabled-fill-color);\n",
              "    box-shadow: none;\n",
              "  }\n",
              "\n",
              "  .colab-df-spinner {\n",
              "    border: 2px solid var(--fill-color);\n",
              "    border-color: transparent;\n",
              "    border-bottom-color: var(--fill-color);\n",
              "    animation:\n",
              "      spin 1s steps(1) infinite;\n",
              "  }\n",
              "\n",
              "  @keyframes spin {\n",
              "    0% {\n",
              "      border-color: transparent;\n",
              "      border-bottom-color: var(--fill-color);\n",
              "      border-left-color: var(--fill-color);\n",
              "    }\n",
              "    20% {\n",
              "      border-color: transparent;\n",
              "      border-left-color: var(--fill-color);\n",
              "      border-top-color: var(--fill-color);\n",
              "    }\n",
              "    30% {\n",
              "      border-color: transparent;\n",
              "      border-left-color: var(--fill-color);\n",
              "      border-top-color: var(--fill-color);\n",
              "      border-right-color: var(--fill-color);\n",
              "    }\n",
              "    40% {\n",
              "      border-color: transparent;\n",
              "      border-right-color: var(--fill-color);\n",
              "      border-top-color: var(--fill-color);\n",
              "    }\n",
              "    60% {\n",
              "      border-color: transparent;\n",
              "      border-right-color: var(--fill-color);\n",
              "    }\n",
              "    80% {\n",
              "      border-color: transparent;\n",
              "      border-right-color: var(--fill-color);\n",
              "      border-bottom-color: var(--fill-color);\n",
              "    }\n",
              "    90% {\n",
              "      border-color: transparent;\n",
              "      border-bottom-color: var(--fill-color);\n",
              "    }\n",
              "  }\n",
              "</style>\n",
              "\n",
              "  <script>\n",
              "    async function quickchart(key) {\n",
              "      const quickchartButtonEl =\n",
              "        document.querySelector('#' + key + ' button');\n",
              "      quickchartButtonEl.disabled = true;  // To prevent multiple clicks.\n",
              "      quickchartButtonEl.classList.add('colab-df-spinner');\n",
              "      try {\n",
              "        const charts = await google.colab.kernel.invokeFunction(\n",
              "            'suggestCharts', [key], {});\n",
              "      } catch (error) {\n",
              "        console.error('Error during call to suggestCharts:', error);\n",
              "      }\n",
              "      quickchartButtonEl.classList.remove('colab-df-spinner');\n",
              "      quickchartButtonEl.classList.add('colab-df-quickchart-complete');\n",
              "    }\n",
              "    (() => {\n",
              "      let quickchartButtonEl =\n",
              "        document.querySelector('#df-dc8db397-9b8f-40f0-8f43-538b1497cd18 button');\n",
              "      quickchartButtonEl.style.display =\n",
              "        google.colab.kernel.accessAllowed ? 'block' : 'none';\n",
              "    })();\n",
              "  </script>\n",
              "</div>\n",
              "\n",
              "  <div id=\"id_d6fbdd26-8da9-40c0-8769-daabfe0fea2f\">\n",
              "    <style>\n",
              "      .colab-df-generate {\n",
              "        background-color: #E8F0FE;\n",
              "        border: none;\n",
              "        border-radius: 50%;\n",
              "        cursor: pointer;\n",
              "        display: none;\n",
              "        fill: #1967D2;\n",
              "        height: 32px;\n",
              "        padding: 0 0 0 0;\n",
              "        width: 32px;\n",
              "      }\n",
              "\n",
              "      .colab-df-generate:hover {\n",
              "        background-color: #E2EBFA;\n",
              "        box-shadow: 0px 1px 2px rgba(60, 64, 67, 0.3), 0px 1px 3px 1px rgba(60, 64, 67, 0.15);\n",
              "        fill: #174EA6;\n",
              "      }\n",
              "\n",
              "      [theme=dark] .colab-df-generate {\n",
              "        background-color: #3B4455;\n",
              "        fill: #D2E3FC;\n",
              "      }\n",
              "\n",
              "      [theme=dark] .colab-df-generate:hover {\n",
              "        background-color: #434B5C;\n",
              "        box-shadow: 0px 1px 3px 1px rgba(0, 0, 0, 0.15);\n",
              "        filter: drop-shadow(0px 1px 2px rgba(0, 0, 0, 0.3));\n",
              "        fill: #FFFFFF;\n",
              "      }\n",
              "    </style>\n",
              "    <button class=\"colab-df-generate\" onclick=\"generateWithVariable('df')\"\n",
              "            title=\"Generate code using this dataframe.\"\n",
              "            style=\"display:none;\">\n",
              "\n",
              "  <svg xmlns=\"http://www.w3.org/2000/svg\" height=\"24px\"viewBox=\"0 0 24 24\"\n",
              "       width=\"24px\">\n",
              "    <path d=\"M7,19H8.4L18.45,9,17,7.55,7,17.6ZM5,21V16.75L18.45,3.32a2,2,0,0,1,2.83,0l1.4,1.43a1.91,1.91,0,0,1,.58,1.4,1.91,1.91,0,0,1-.58,1.4L9.25,21ZM18.45,9,17,7.55Zm-12,3A5.31,5.31,0,0,0,4.9,8.1,5.31,5.31,0,0,0,1,6.5,5.31,5.31,0,0,0,4.9,4.9,5.31,5.31,0,0,0,6.5,1,5.31,5.31,0,0,0,8.1,4.9,5.31,5.31,0,0,0,12,6.5,5.46,5.46,0,0,0,6.5,12Z\"/>\n",
              "  </svg>\n",
              "    </button>\n",
              "    <script>\n",
              "      (() => {\n",
              "      const buttonEl =\n",
              "        document.querySelector('#id_d6fbdd26-8da9-40c0-8769-daabfe0fea2f button.colab-df-generate');\n",
              "      buttonEl.style.display =\n",
              "        google.colab.kernel.accessAllowed ? 'block' : 'none';\n",
              "\n",
              "      buttonEl.onclick = () => {\n",
              "        google.colab.notebook.generateWithVariable('df');\n",
              "      }\n",
              "      })();\n",
              "    </script>\n",
              "  </div>\n",
              "\n",
              "    </div>\n",
              "  </div>\n"
            ],
            "application/vnd.google.colaboratory.intrinsic+json": {
              "type": "dataframe",
              "variable_name": "df",
              "summary": "{\n  \"name\": \"df\",\n  \"rows\": 3060,\n  \"fields\": [\n    {\n      \"column\": \"Date\",\n      \"properties\": {\n        \"dtype\": \"object\",\n        \"num_unique_values\": 3060,\n        \"samples\": [\n          \"2017-09-01\",\n          \"2023-01-20\",\n          \"2018-08-08\"\n        ],\n        \"semantic_type\": \"\",\n        \"description\": \"\"\n      }\n    },\n    {\n      \"column\": \"Price\",\n      \"properties\": {\n        \"dtype\": \"number\",\n        \"std\": 275.38220675246407,\n        \"min\": 1049.6,\n        \"max\": 2069.4,\n        \"num_unique_values\": 2447,\n        \"samples\": [\n          1673.5,\n          1253.5,\n          1230.1\n        ],\n        \"semantic_type\": \"\",\n        \"description\": \"\"\n      }\n    },\n    {\n      \"column\": \"Open\",\n      \"properties\": {\n        \"dtype\": \"number\",\n        \"std\": 275.40121411161203,\n        \"min\": 1051.5,\n        \"max\": 2076.4,\n        \"num_unique_values\": 2406,\n        \"samples\": [\n          1564.8,\n          1224.8,\n          1266.1\n        ],\n        \"semantic_type\": \"\",\n        \"description\": \"\"\n      }\n    },\n    {\n      \"column\": \"High\",\n      \"properties\": {\n        \"dtype\": \"number\",\n        \"std\": 277.46701642295056,\n        \"min\": 1062.7,\n        \"max\": 2089.2,\n        \"num_unique_values\": 2471,\n        \"samples\": [\n          1278.5,\n          1413.3,\n          1244.4\n        ],\n        \"semantic_type\": \"\",\n        \"description\": \"\"\n      }\n    },\n    {\n      \"column\": \"Low\",\n      \"properties\": {\n        \"dtype\": \"number\",\n        \"std\": 272.94299686042643,\n        \"min\": 1045.4,\n        \"max\": 2049.0,\n        \"num_unique_values\": 2456,\n        \"samples\": [\n          1328.0,\n          1683.0,\n          1221.2\n        ],\n        \"semantic_type\": \"\",\n        \"description\": \"\"\n      }\n    }\n  ]\n}"
            }
          },
          "metadata": {},
          "execution_count": 29
        }
      ]
    },
    {
      "cell_type": "code",
      "source": [
        "sns.boxplot(df['Price'])"
      ],
      "metadata": {
        "colab": {
          "base_uri": "https://localhost:8080/",
          "height": 432
        },
        "id": "7ingbN4Q9RGi",
        "outputId": "fc064a2f-a501-49d5-cb10-426094f11871"
      },
      "execution_count": null,
      "outputs": [
        {
          "output_type": "execute_result",
          "data": {
            "text/plain": [
              "<Axes: ylabel='Price'>"
            ]
          },
          "metadata": {},
          "execution_count": 30
        },
        {
          "output_type": "display_data",
          "data": {
            "text/plain": [
              "<Figure size 640x480 with 1 Axes>"
            ],
            "image/png": "[encoded data removed]"
          },
          "metadata": {}
        }
      ]
    },
    {
      "cell_type": "code",
      "source": [
        "sns.boxplot(df['Open'])"
      ],
      "metadata": {
        "colab": {
          "base_uri": "https://localhost:8080/",
          "height": 429
        },
        "id": "4PO6FyUY9Z3T",
        "outputId": "f3582da0-c05d-4759-b485-d583eed72254"
      },
      "execution_count": null,
      "outputs": [
        {
          "output_type": "execute_result",
          "data": {
            "text/plain": [
              "<Axes: ylabel='Open'>"
            ]
          },
          "metadata": {},
          "execution_count": 31
        },
        {
          "output_type": "display_data",
          "data": {
            "text/plain": [
              "<Figure size 640x480 with 1 Axes>"
            ],
            "image/png": "[encoded data removed]"
          },
          "metadata": {}
        }
      ]
    },
    {
      "cell_type": "code",
      "source": [
        "sns.boxplot(df['High'])"
      ],
      "metadata": {
        "colab": {
          "base_uri": "https://localhost:8080/",
          "height": 429
        },
        "id": "VNUsuBjv9evE",
        "outputId": "0babc1bc-c8d9-4218-8b99-ae1ea8b74f70"
      },
      "execution_count": null,
      "outputs": [
        {
          "output_type": "execute_result",
          "data": {
            "text/plain": [
              "<Axes: ylabel='High'>"
            ]
          },
          "metadata": {},
          "execution_count": 32
        },
        {
          "output_type": "display_data",
          "data": {
            "text/plain": [
              "<Figure size 640x480 with 1 Axes>"
            ],
            "image/png": "[encoded data removed]"
          },
          "metadata": {}
        }
      ]
    },
    {
      "cell_type": "code",
      "source": [
        "import plotly.express as px"
      ],
      "metadata": {
        "id": "5-YOAgnj9i5m"
      },
      "execution_count": null,
      "outputs": []
    },
    {
      "cell_type": "code",
      "source": [
        "fig = px.line(y=df.Price,x = df.Date)\n",
        "fig.update_traces(line_color = 'black')\n",
        "fig.update_layout(xaxis_title=\"Date\",\n",
        "                  yaxis_title=\"ScaledPrice\",\n",
        "                  title={'text':\"Gold Price History Data\",\n",
        "                         'y':0.95,'x':0.5,'xanchor':'center','yanchor':'top'},\n",
        "                  plot_bgcolor='rgba(255,223,0,0.8)')"
      ],
      "metadata": {
        "colab": {
          "base_uri": "https://localhost:8080/",
          "height": 542
        },
        "id": "mhF9ouGB_BH-",
        "outputId": "e8d5cd40-c108-41bf-c177-0fb6851d31fa"
      },
      "execution_count": null,
      "outputs": [
        {
          "output_type": "display_data",
          "data": {
            "text/html": [
              "<html>\n",
              "<head><meta charset=\"utf-8\" /></head>\n",
              "<body>\n",
              "    <div>            <script src=\"https://cdnjs.cloudflare.com/ajax/libs/mathjax/2.7.5/MathJax.js?config=TeX-AMS-MML_SVG\"></script><script type=\"text/javascript\">if (window.MathJax && window.MathJax.Hub && window.MathJax.Hub.Config) {window.MathJax.Hub.Config({SVG: {font: \"STIX-Web\"}});}</script>                <script type=\"text/javascript\">window.PlotlyConfig = {MathJaxConfig: 'local'};</script>\n",
              "        <script charset=\"utf-8\" src=\"https://cdn.plot.ly/plotly-2.24.1.min.js\"></script>                <div id=\"873143f4-80f7-4402-bb4c-5c3164d43bee\" class=\"plotly-graph-div\" style=\"height:525px; width:100%;\"></div>            <script type=\"text/javascript\">                                    window.PLOTLYENV=window.PLOTLYENV || {};                                    if (document.getElementById(\"873143f4-80f7-4402-bb4c-5c3164d43bee\")) {                    Plotly.newPlot(                        \"873143f4-80f7-4402-bb4c-5c3164d43bee\",                        [{\"hovertemplate\":\"x=%{x}\\u003cbr\\u003ey=%{y}\\u003cextra\\u003e\\u003c\\u002fextra\\u003e\",\"legendgroup\":\"\",\"line\":{\"color\":\"black\",\"dash\":\"solid\"},\"marker\":{\"symbol\":\"circle\"},\"mode\":\"lines\",\"name\":\"\",\"showlegend\":false,\"x\":[\"2023-10-27\",\"2023-10-26\",\"2023-10-25\",\"2023-10-24\",\"2023-10-23\",\"2023-10-20\",\"2023-10-19\",\"2023-10-18\",\"2023-10-17\",\"2023-10-16\",\"2023-10-13\",\"2023-12-10\",\"2023-11-10\",\"2023-10-10\",\"2023-09-10\",\"2023-06-10\",\"2023-05-10\",\"2023-04-10\",\"2023-03-10\",\"2023-02-10\",\"2023-09-29\",\"2023-09-28\",\"2023-09-27\",\"2023-09-26\",\"2023-09-25\",\"2023-09-22\",\"2023-09-21\",\"2023-09-20\",\"2023-09-19\",\"2023-09-18\",\"2023-09-15\",\"2023-09-14\",\"2023-09-13\",\"2023-12-09\",\"2023-11-09\",\"2023-08-09\",\"2023-07-09\",\"2023-06-09\",\"2023-05-09\",\"2023-04-09\",\"2023-03-09\",\"2023-01-09\",\"2023-08-31\",\"2023-08-30\",\"2023-08-29\",\"2023-08-28\",\"2023-08-25\",\"2023-08-24\",\"2023-08-23\",\"2023-08-22\",\"2023-08-21\",\"2023-08-18\",\"2023-08-17\",\"2023-08-16\",\"2023-08-15\",\"2023-08-14\",\"2023-11-08\",\"2023-10-08\",\"2023-09-08\",\"2023-08-08\",\"2023-07-08\",\"2023-04-08\",\"2023-03-08\",\"2023-02-08\",\"2023-01-08\",\"2023-07-31\",\"2023-07-28\",\"2023-07-27\",\"2023-07-26\",\"2023-07-25\",\"2023-07-24\",\"2023-07-21\",\"2023-07-20\",\"2023-07-19\",\"2023-07-18\",\"2023-07-17\",\"2023-07-14\",\"2023-07-13\",\"2023-12-07\",\"2023-11-07\",\"2023-10-07\",\"2023-07-07\",\"2023-06-07\",\"2023-05-07\",\"2023-04-07\",\"2023-03-07\",\"2023-06-30\",\"2023-06-29\",\"2023-06-28\",\"2023-06-27\",\"2023-06-26\",\"2023-06-23\",\"2023-06-22\",\"2023-06-21\",\"2023-06-20\",\"2023-06-19\",\"2023-06-18\",\"2023-06-16\",\"2023-06-15\",\"2023-06-14\",\"2023-06-13\",\"2023-12-06\",\"2023-09-06\",\"2023-08-06\",\"2023-07-06\",\"2023-06-06\",\"2023-05-06\",\"2023-02-06\",\"2023-01-06\",\"2023-05-31\",\"2023-05-30\",\"2023-05-29\",\"2023-05-28\",\"2023-05-26\",\"2023-05-25\",\"2023-05-24\",\"2023-05-23\",\"2023-05-22\",\"2023-05-19\",\"2023-05-18\",\"2023-05-17\",\"2023-05-16\",\"2023-05-15\",\"2023-12-05\",\"2023-11-05\",\"2023-10-05\",\"2023-09-05\",\"2023-08-05\",\"2023-05-05\",\"2023-04-05\",\"2023-03-05\",\"2023-02-05\",\"2023-01-05\",\"2023-04-28\",\"2023-04-27\",\"2023-04-26\",\"2023-04-25\",\"2023-04-24\",\"2023-04-21\",\"2023-04-20\",\"2023-04-19\",\"2023-04-18\",\"2023-04-17\",\"2023-04-14\",\"2023-04-13\",\"2023-12-04\",\"2023-11-04\",\"2023-10-04\",\"2023-06-04\",\"2023-05-04\",\"2023-04-04\",\"2023-03-04\",\"2023-03-31\",\"2023-03-30\",\"2023-03-29\",\"2023-03-28\",\"2023-03-27\",\"2023-03-24\",\"2023-03-23\",\"2023-03-22\",\"2023-03-21\",\"2023-03-20\",\"2023-03-17\",\"2023-03-16\",\"2023-03-15\",\"2023-03-14\",\"2023-03-13\",\"2023-10-03\",\"2023-09-03\",\"2023-08-03\",\"2023-07-03\",\"2023-06-03\",\"2023-03-03\",\"2023-02-03\",\"2023-01-03\",\"2023-02-28\",\"2023-02-27\",\"2023-02-24\",\"2023-02-23\",\"2023-02-22\",\"2023-02-21\",\"2023-02-20\",\"2023-02-19\",\"2023-02-17\",\"2023-02-16\",\"2023-02-15\",\"2023-02-14\",\"2023-02-13\",\"2023-10-02\",\"2023-09-02\",\"2023-08-02\",\"2023-07-02\",\"2023-06-02\",\"2023-03-02\",\"2023-02-02\",\"2023-01-02\",\"2023-01-31\",\"2023-01-30\",\"2023-01-27\",\"2023-01-26\",\"2023-01-25\",\"2023-01-24\",\"2023-01-23\",\"2023-01-20\",\"2023-01-19\",\"2023-01-18\",\"2023-01-17\",\"2023-01-16\",\"2023-01-15\",\"2023-01-13\",\"2023-12-01\",\"2023-11-01\",\"2023-10-01\",\"2023-09-01\",\"2023-06-01\",\"2023-05-01\",\"2023-04-01\",\"2023-03-01\",\"2023-02-01\",\"2022-12-30\",\"2022-12-29\",\"2022-12-28\",\"2022-12-27\",\"2022-12-26\",\"2022-12-23\",\"2022-12-22\",\"2022-12-21\",\"2022-12-20\",\"2022-12-19\",\"2022-12-16\",\"2022-12-15\",\"2022-12-14\",\"2022-12-13\",\"2022-12-12\",\"2022-09-12\",\"2022-08-12\",\"2022-07-12\",\"2022-06-12\",\"2022-05-12\",\"2022-02-12\",\"2022-01-12\",\"2022-11-30\",\"2022-11-29\",\"2022-11-28\",\"2022-11-25\",\"2022-11-24\",\"2022-11-23\",\"2022-11-22\",\"2022-11-21\",\"2022-11-18\",\"2022-11-17\",\"2022-11-16\",\"2022-11-15\",\"2022-11-14\",\"2022-11-11\",\"2022-10-11\",\"2022-09-11\",\"2022-08-11\",\"2022-07-11\",\"2022-04-11\",\"2022-03-11\",\"2022-02-11\",\"2022-01-11\",\"2022-10-31\",\"2022-10-28\",\"2022-10-27\",\"2022-10-26\",\"2022-10-25\",\"2022-10-24\",\"2022-10-21\",\"2022-10-20\",\"2022-10-19\",\"2022-10-18\",\"2022-10-17\",\"2022-10-14\",\"2022-10-13\",\"2022-12-10\",\"2022-11-10\",\"2022-10-10\",\"2022-07-10\",\"2022-06-10\",\"2022-05-10\",\"2022-04-10\",\"2022-03-10\",\"2022-09-30\",\"2022-09-29\",\"2022-09-28\",\"2022-09-27\",\"2022-09-26\",\"2022-09-23\",\"2022-09-22\",\"2022-09-21\",\"2022-09-20\",\"2022-09-19\",\"2022-09-16\",\"2022-09-15\",\"2022-09-14\",\"2022-09-13\",\"2022-12-09\",\"2022-09-09\",\"2022-08-09\",\"2022-07-09\",\"2022-06-09\",\"2022-05-09\",\"2022-04-09\",\"2022-02-09\",\"2022-01-09\",\"2022-08-31\",\"2022-08-30\",\"2022-08-29\",\"2022-08-26\",\"2022-08-25\",\"2022-08-24\",\"2022-08-23\",\"2022-08-22\",\"2022-08-19\",\"2022-08-18\",\"2022-08-17\",\"2022-08-16\",\"2022-08-15\",\"2022-12-08\",\"2022-11-08\",\"2022-10-08\",\"2022-09-08\",\"2022-08-08\",\"2022-05-08\",\"2022-04-08\",\"2022-03-08\",\"2022-02-08\",\"2022-01-08\",\"2022-07-29\",\"2022-07-28\",\"2022-07-27\",\"2022-07-26\",\"2022-07-25\",\"2022-07-22\",\"2022-07-21\",\"2022-07-20\",\"2022-07-19\",\"2022-07-18\",\"2022-07-15\",\"2022-07-14\",\"2022-07-13\",\"2022-12-07\",\"2022-11-07\",\"2022-08-07\",\"2022-07-07\",\"2022-06-07\",\"2022-05-07\",\"2022-04-07\",\"2022-01-07\",\"2022-06-30\",\"2022-06-29\",\"2022-06-28\",\"2022-06-27\",\"2022-06-24\",\"2022-06-23\",\"2022-06-22\",\"2022-06-21\",\"2022-06-20\",\"2022-06-17\",\"2022-06-16\",\"2022-06-15\",\"2022-06-14\",\"2022-06-13\",\"2022-10-06\",\"2022-09-06\",\"2022-08-06\",\"2022-07-06\",\"2022-06-06\",\"2022-03-06\",\"2022-02-06\",\"2022-01-06\",\"2022-05-31\",\"2022-05-30\",\"2022-05-27\",\"2022-05-26\",\"2022-05-25\",\"2022-05-24\",\"2022-05-23\",\"2022-05-20\",\"2022-05-19\",\"2022-05-18\",\"2022-05-17\",\"2022-05-16\",\"2022-05-13\",\"2022-12-05\",\"2022-11-05\",\"2022-10-05\",\"2022-09-05\",\"2022-06-05\",\"2022-05-05\",\"2022-04-05\",\"2022-03-05\",\"2022-02-05\",\"2022-04-29\",\"2022-04-28\",\"2022-04-27\",\"2022-04-26\",\"2022-04-25\",\"2022-04-22\",\"2022-04-21\",\"2022-04-20\",\"2022-04-19\",\"2022-04-18\",\"2022-04-14\",\"2022-04-13\",\"2022-12-04\",\"2022-11-04\",\"2022-08-04\",\"2022-07-04\",\"2022-06-04\",\"2022-05-04\",\"2022-04-04\",\"2022-01-04\",\"2022-03-31\",\"2022-03-30\",\"2022-03-29\",\"2022-03-28\",\"2022-03-25\",\"2022-03-24\",\"2022-03-23\",\"2022-03-22\",\"2022-03-21\",\"2022-03-18\",\"2022-03-17\",\"2022-03-16\",\"2022-03-15\",\"2022-03-14\",\"2022-11-03\",\"2022-10-03\",\"2022-09-03\",\"2022-08-03\",\"2022-07-03\",\"2022-04-03\",\"2022-03-03\",\"2022-02-03\",\"2022-01-03\",\"2022-02-28\",\"2022-02-25\",\"2022-02-24\",\"2022-02-23\",\"2022-02-22\",\"2022-02-21\",\"2022-02-18\",\"2022-02-17\",\"2022-02-16\",\"2022-02-15\",\"2022-02-14\",\"2022-11-02\",\"2022-10-02\",\"2022-09-02\",\"2022-08-02\",\"2022-07-02\",\"2022-04-02\",\"2022-03-02\",\"2022-02-02\",\"2022-01-02\",\"2022-01-31\",\"2022-01-28\",\"2022-01-27\",\"2022-01-26\",\"2022-01-25\",\"2022-01-24\",\"2022-01-21\",\"2022-01-20\",\"2022-01-19\",\"2022-01-18\",\"2022-01-17\",\"2022-01-14\",\"2022-01-13\",\"2022-12-01\",\"2022-11-01\",\"2022-10-01\",\"2022-07-01\",\"2022-06-01\",\"2022-05-01\",\"2022-04-01\",\"2022-03-01\",\"2021-12-31\",\"2021-12-30\",\"2021-12-29\",\"2021-12-28\",\"2021-12-27\",\"2021-12-23\",\"2021-12-22\",\"2021-12-21\",\"2021-12-20\",\"2021-12-17\",\"2021-12-16\",\"2021-12-15\",\"2021-12-14\",\"2021-12-13\",\"2021-10-12\",\"2021-09-12\",\"2021-08-12\",\"2021-07-12\",\"2021-06-12\",\"2021-03-12\",\"2021-02-12\",\"2021-01-12\",\"2021-11-30\",\"2021-11-29\",\"2021-11-26\",\"2021-11-25\",\"2021-11-24\",\"2021-11-23\",\"2021-11-22\",\"2021-11-19\",\"2021-11-18\",\"2021-11-17\",\"2021-11-16\",\"2021-11-15\",\"2021-12-11\",\"2021-11-11\",\"2021-10-11\",\"2021-09-11\",\"2021-08-11\",\"2021-05-11\",\"2021-04-11\",\"2021-03-11\",\"2021-02-11\",\"2021-01-11\",\"2021-10-29\",\"2021-10-28\",\"2021-10-27\",\"2021-10-26\",\"2021-10-25\",\"2021-10-22\",\"2021-10-21\",\"2021-10-20\",\"2021-10-19\",\"2021-10-18\",\"2021-10-15\",\"2021-10-14\",\"2021-10-13\",\"2021-12-10\",\"2021-11-10\",\"2021-08-10\",\"2021-07-10\",\"2021-06-10\",\"2021-05-10\",\"2021-04-10\",\"2021-01-10\",\"2021-09-30\",\"2021-09-29\",\"2021-09-28\",\"2021-09-27\",\"2021-09-24\",\"2021-09-23\",\"2021-09-22\",\"2021-09-21\",\"2021-09-20\",\"2021-09-17\",\"2021-09-16\",\"2021-09-15\",\"2021-09-14\",\"2021-09-13\",\"2021-10-09\",\"2021-09-09\",\"2021-08-09\",\"2021-07-09\",\"2021-06-09\",\"2021-03-09\",\"2021-02-09\",\"2021-01-09\",\"2021-08-31\",\"2021-08-30\",\"2021-08-27\",\"2021-08-26\",\"2021-08-25\",\"2021-08-24\",\"2021-08-23\",\"2021-08-20\",\"2021-08-19\",\"2021-08-18\",\"2021-08-17\",\"2021-08-16\",\"2021-08-13\",\"2021-12-08\",\"2021-11-08\",\"2021-10-08\",\"2021-09-08\",\"2021-06-08\",\"2021-05-08\",\"2021-04-08\",\"2021-03-08\",\"2021-02-08\",\"2021-07-30\",\"2021-07-29\",\"2021-07-28\",\"2021-07-27\",\"2021-07-26\",\"2021-07-23\",\"2021-07-22\",\"2021-07-21\",\"2021-07-20\",\"2021-07-19\",\"2021-07-16\",\"2021-07-15\",\"2021-07-14\",\"2021-07-13\",\"2021-12-07\",\"2021-09-07\",\"2021-08-07\",\"2021-07-07\",\"2021-06-07\",\"2021-05-07\",\"2021-02-07\",\"2021-01-07\",\"2021-06-30\",\"2021-06-29\",\"2021-06-28\",\"2021-06-25\",\"2021-06-24\",\"2021-06-23\",\"2021-06-22\",\"2021-06-21\",\"2021-06-18\",\"2021-06-17\",\"2021-06-16\",\"2021-06-15\",\"2021-06-14\",\"2021-11-06\",\"2021-10-06\",\"2021-09-06\",\"2021-08-06\",\"2021-07-06\",\"2021-04-06\",\"2021-03-06\",\"2021-02-06\",\"2021-01-06\",\"2021-05-31\",\"2021-05-28\",\"2021-05-27\",\"2021-05-26\",\"2021-05-25\",\"2021-05-24\",\"2021-05-21\",\"2021-05-20\",\"2021-05-19\",\"2021-05-18\",\"2021-05-17\",\"2021-05-14\",\"2021-05-13\",\"2021-12-05\",\"2021-11-05\",\"2021-10-05\",\"2021-07-05\",\"2021-06-05\",\"2021-05-05\",\"2021-04-05\",\"2021-03-05\",\"2021-04-30\",\"2021-04-29\",\"2021-04-28\",\"2021-04-27\",\"2021-04-26\",\"2021-04-23\",\"2021-04-22\",\"2021-04-21\",\"2021-04-20\",\"2021-04-19\",\"2021-04-16\",\"2021-04-15\",\"2021-04-14\",\"2021-04-13\",\"2021-12-04\",\"2021-09-04\",\"2021-08-04\",\"2021-07-04\",\"2021-06-04\",\"2021-05-04\",\"2021-01-04\",\"2021-03-31\",\"2021-03-30\",\"2021-03-29\",\"2021-03-26\",\"2021-03-25\",\"2021-03-24\",\"2021-03-23\",\"2021-03-22\",\"2021-03-19\",\"2021-03-18\",\"2021-03-17\",\"2021-03-16\",\"2021-03-15\",\"2021-12-03\",\"2021-11-03\",\"2021-10-03\",\"2021-09-03\",\"2021-08-03\",\"2021-05-03\",\"2021-04-03\",\"2021-03-03\",\"2021-02-03\",\"2021-01-03\",\"2021-02-26\",\"2021-02-25\",\"2021-02-24\",\"2021-02-23\",\"2021-02-22\",\"2021-02-19\",\"2021-02-18\",\"2021-02-17\",\"2021-02-16\",\"2021-02-15\",\"2021-12-02\",\"2021-11-02\",\"2021-10-02\",\"2021-09-02\",\"2021-08-02\",\"2021-05-02\",\"2021-04-02\",\"2021-03-02\",\"2021-02-02\",\"2021-01-02\",\"2021-01-29\",\"2021-01-28\",\"2021-01-27\",\"2021-01-26\",\"2021-01-25\",\"2021-01-22\",\"2021-01-21\",\"2021-01-20\",\"2021-01-19\",\"2021-01-18\",\"2021-01-15\",\"2021-01-14\",\"2021-01-13\",\"2021-12-01\",\"2021-11-01\",\"2021-08-01\",\"2021-07-01\",\"2021-06-01\",\"2021-05-01\",\"2021-04-01\",\"2020-12-31\",\"2020-12-30\",\"2020-12-29\",\"2020-12-28\",\"2020-12-24\",\"2020-12-23\",\"2020-12-22\",\"2020-12-21\",\"2020-12-18\",\"2020-12-17\",\"2020-12-16\",\"2020-12-15\",\"2020-12-14\",\"2020-11-12\",\"2020-10-12\",\"2020-09-12\",\"2020-08-12\",\"2020-07-12\",\"2020-04-12\",\"2020-03-12\",\"2020-02-12\",\"2020-01-12\",\"2020-11-30\",\"2020-11-27\",\"2020-11-26\",\"2020-11-25\",\"2020-11-24\",\"2020-11-23\",\"2020-11-20\",\"2020-11-19\",\"2020-11-18\",\"2020-11-17\",\"2020-11-16\",\"2020-11-13\",\"2020-12-11\",\"2020-11-11\",\"2020-10-11\",\"2020-09-11\",\"2020-06-11\",\"2020-05-11\",\"2020-04-11\",\"2020-03-11\",\"2020-02-11\",\"2020-10-30\",\"2020-10-29\",\"2020-10-28\",\"2020-10-27\",\"2020-10-26\",\"2020-10-23\",\"2020-10-22\",\"2020-10-21\",\"2020-10-20\",\"2020-10-19\",\"2020-10-16\",\"2020-10-15\",\"2020-10-14\",\"2020-10-13\",\"2020-12-10\",\"2020-09-10\",\"2020-08-10\",\"2020-07-10\",\"2020-06-10\",\"2020-05-10\",\"2020-02-10\",\"2020-01-10\",\"2020-09-30\",\"2020-09-29\",\"2020-09-28\",\"2020-09-25\",\"2020-09-24\",\"2020-09-23\",\"2020-09-22\",\"2020-09-21\",\"2020-09-18\",\"2020-09-17\",\"2020-09-16\",\"2020-09-15\",\"2020-09-14\",\"2020-11-09\",\"2020-10-09\",\"2020-09-09\",\"2020-08-09\",\"2020-07-09\",\"2020-04-09\",\"2020-03-09\",\"2020-02-09\",\"2020-01-09\",\"2020-08-31\",\"2020-08-28\",\"2020-08-27\",\"2020-08-26\",\"2020-08-25\",\"2020-08-24\",\"2020-08-21\",\"2020-08-20\",\"2020-08-19\",\"2020-08-18\",\"2020-08-17\",\"2020-08-14\",\"2020-08-13\",\"2020-12-08\",\"2020-11-08\",\"2020-10-08\",\"2020-07-08\",\"2020-06-08\",\"2020-05-08\",\"2020-04-08\",\"2020-03-08\",\"2020-07-31\",\"2020-07-30\",\"2020-07-29\",\"2020-07-28\",\"2020-07-27\",\"2020-07-24\",\"2020-07-23\",\"2020-07-22\",\"2020-07-21\",\"2020-07-20\",\"2020-07-17\",\"2020-07-16\",\"2020-07-15\",\"2020-07-14\",\"2020-07-13\",\"2020-10-07\",\"2020-09-07\",\"2020-08-07\",\"2020-07-07\",\"2020-06-07\",\"2020-03-07\",\"2020-02-07\",\"2020-01-07\",\"2020-06-30\",\"2020-06-29\",\"2020-06-26\",\"2020-06-25\",\"2020-06-24\",\"2020-06-23\",\"2020-06-22\",\"2020-06-19\",\"2020-06-18\",\"2020-06-17\",\"2020-06-16\",\"2020-06-15\",\"2020-12-06\",\"2020-11-06\",\"2020-10-06\",\"2020-09-06\",\"2020-08-06\",\"2020-05-06\",\"2020-04-06\",\"2020-03-06\",\"2020-02-06\",\"2020-01-06\",\"2020-05-29\",\"2020-05-28\",\"2020-05-27\",\"2020-05-26\",\"2020-05-25\",\"2020-05-22\",\"2020-05-21\",\"2020-05-20\",\"2020-05-19\",\"2020-05-18\",\"2020-05-15\",\"2020-05-14\",\"2020-05-13\",\"2020-12-05\",\"2020-11-05\",\"2020-08-05\",\"2020-07-05\",\"2020-06-05\",\"2020-05-05\",\"2020-04-05\",\"2020-01-05\",\"2020-04-30\",\"2020-04-29\",\"2020-04-28\",\"2020-04-27\",\"2020-04-24\",\"2020-04-23\",\"2020-04-22\",\"2020-04-21\",\"2020-04-20\",\"2020-04-17\",\"2020-04-16\",\"2020-04-15\",\"2020-04-14\",\"2020-04-13\",\"2020-09-04\",\"2020-08-04\",\"2020-07-04\",\"2020-06-04\",\"2020-03-04\",\"2020-02-04\",\"2020-01-04\",\"2020-03-31\",\"2020-03-30\",\"2020-03-27\",\"2020-03-26\",\"2020-03-25\",\"2020-03-24\",\"2020-03-23\",\"2020-03-20\",\"2020-03-19\",\"2020-03-18\",\"2020-03-17\",\"2020-03-16\",\"2020-03-13\",\"2020-12-03\",\"2020-11-03\",\"2020-10-03\",\"2020-09-03\",\"2020-06-03\",\"2020-05-03\",\"2020-04-03\",\"2020-03-03\",\"2020-02-03\",\"2020-02-28\",\"2020-02-27\",\"2020-02-26\",\"2020-02-25\",\"2020-02-24\",\"2020-02-21\",\"2020-02-20\",\"2020-02-19\",\"2020-02-18\",\"2020-02-17\",\"2020-02-14\",\"2020-02-13\",\"2020-12-02\",\"2020-11-02\",\"2020-10-02\",\"2020-07-02\",\"2020-06-02\",\"2020-05-02\",\"2020-04-02\",\"2020-03-02\",\"2020-01-31\",\"2020-01-30\",\"2020-01-29\",\"2020-01-28\",\"2020-01-27\",\"2020-01-24\",\"2020-01-23\",\"2020-01-22\",\"2020-01-21\",\"2020-01-20\",\"2020-01-17\",\"2020-01-16\",\"2020-01-15\",\"2020-01-14\",\"2020-01-13\",\"2020-10-01\",\"2020-09-01\",\"2020-08-01\",\"2020-07-01\",\"2020-06-01\",\"2020-03-01\",\"2020-02-01\",\"2019-12-31\",\"2019-12-30\",\"2019-12-27\",\"2019-12-26\",\"2019-12-24\",\"2019-12-23\",\"2019-12-20\",\"2019-12-19\",\"2019-12-18\",\"2019-12-17\",\"2019-12-16\",\"2019-12-13\",\"2019-12-12\",\"2019-11-12\",\"2019-10-12\",\"2019-09-12\",\"2019-06-12\",\"2019-05-12\",\"2019-04-12\",\"2019-03-12\",\"2019-02-12\",\"2019-11-29\",\"2019-11-28\",\"2019-11-27\",\"2019-11-26\",\"2019-11-25\",\"2019-11-22\",\"2019-11-21\",\"2019-11-20\",\"2019-11-19\",\"2019-11-18\",\"2019-11-15\",\"2019-11-14\",\"2019-11-13\",\"2019-12-11\",\"2019-11-11\",\"2019-08-11\",\"2019-07-11\",\"2019-06-11\",\"2019-05-11\",\"2019-04-11\",\"2019-01-11\",\"2019-10-31\",\"2019-10-30\",\"2019-10-29\",\"2019-10-28\",\"2019-10-25\",\"2019-10-24\",\"2019-10-23\",\"2019-10-22\",\"2019-10-21\",\"2019-10-18\",\"2019-10-17\",\"2019-10-16\",\"2019-10-15\",\"2019-10-14\",\"2019-11-10\",\"2019-10-10\",\"2019-09-10\",\"2019-08-10\",\"2019-07-10\",\"2019-04-10\",\"2019-03-10\",\"2019-02-10\",\"2019-01-10\",\"2019-09-30\",\"2019-09-27\",\"2019-09-26\",\"2019-09-25\",\"2019-09-24\",\"2019-09-23\",\"2019-09-20\",\"2019-09-19\",\"2019-09-18\",\"2019-09-17\",\"2019-09-16\",\"2019-09-13\",\"2019-12-09\",\"2019-11-09\",\"2019-10-09\",\"2019-09-09\",\"2019-06-09\",\"2019-05-09\",\"2019-04-09\",\"2019-03-09\",\"2019-02-09\",\"2019-08-30\",\"2019-08-29\",\"2019-08-28\",\"2019-08-27\",\"2019-08-26\",\"2019-08-23\",\"2019-08-22\",\"2019-08-21\",\"2019-08-20\",\"2019-08-19\",\"2019-08-16\",\"2019-08-15\",\"2019-08-14\",\"2019-08-13\",\"2019-12-08\",\"2019-09-08\",\"2019-08-08\",\"2019-07-08\",\"2019-06-08\",\"2019-05-08\",\"2019-02-08\",\"2019-01-08\",\"2019-07-31\",\"2019-07-30\",\"2019-07-29\",\"2019-07-26\",\"2019-07-25\",\"2019-07-24\",\"2019-07-23\",\"2019-07-22\",\"2019-07-19\",\"2019-07-18\",\"2019-07-17\",\"2019-07-16\",\"2019-07-15\",\"2019-12-07\",\"2019-11-07\",\"2019-10-07\",\"2019-09-07\",\"2019-08-07\",\"2019-05-07\",\"2019-04-07\",\"2019-03-07\",\"2019-02-07\",\"2019-01-07\",\"2019-06-28\",\"2019-06-27\",\"2019-06-26\",\"2019-06-25\",\"2019-06-24\",\"2019-06-21\",\"2019-06-20\",\"2019-06-19\",\"2019-06-18\",\"2019-06-17\",\"2019-06-14\",\"2019-06-13\",\"2019-12-06\",\"2019-11-06\",\"2019-10-06\",\"2019-07-06\",\"2019-06-06\",\"2019-05-06\",\"2019-04-06\",\"2019-03-06\",\"2019-05-31\",\"2019-05-30\",\"2019-05-29\",\"2019-05-28\",\"2019-05-27\",\"2019-05-24\",\"2019-05-23\",\"2019-05-22\",\"2019-05-21\",\"2019-05-20\",\"2019-05-17\",\"2019-05-16\",\"2019-05-15\",\"2019-05-14\",\"2019-05-13\",\"2019-10-05\",\"2019-09-05\",\"2019-08-05\",\"2019-07-05\",\"2019-06-05\",\"2019-03-05\",\"2019-02-05\",\"2019-01-05\",\"2019-04-30\",\"2019-04-29\",\"2019-04-26\",\"2019-04-25\",\"2019-04-24\",\"2019-04-23\",\"2019-04-22\",\"2019-04-18\",\"2019-04-17\",\"2019-04-16\",\"2019-04-15\",\"2019-12-04\",\"2019-11-04\",\"2019-10-04\",\"2019-09-04\",\"2019-08-04\",\"2019-05-04\",\"2019-04-04\",\"2019-03-04\",\"2019-02-04\",\"2019-01-04\",\"2019-03-29\",\"2019-03-28\",\"2019-03-27\",\"2019-03-26\",\"2019-03-25\",\"2019-03-22\",\"2019-03-21\",\"2019-03-20\",\"2019-03-19\",\"2019-03-18\",\"2019-03-15\",\"2019-03-14\",\"2019-03-13\",\"2019-12-03\",\"2019-11-03\",\"2019-08-03\",\"2019-07-03\",\"2019-06-03\",\"2019-05-03\",\"2019-04-03\",\"2019-01-03\",\"2019-02-28\",\"2019-02-27\",\"2019-02-26\",\"2019-02-25\",\"2019-02-22\",\"2019-02-21\",\"2019-02-20\",\"2019-02-19\",\"2019-02-18\",\"2019-02-15\",\"2019-02-14\",\"2019-02-13\",\"2019-12-02\",\"2019-11-02\",\"2019-08-02\",\"2019-07-02\",\"2019-06-02\",\"2019-05-02\",\"2019-04-02\",\"2019-01-02\",\"2019-01-31\",\"2019-01-30\",\"2019-01-29\",\"2019-01-28\",\"2019-01-25\",\"2019-01-24\",\"2019-01-23\",\"2019-01-22\",\"2019-01-21\",\"2019-01-18\",\"2019-01-17\",\"2019-01-16\",\"2019-01-15\",\"2019-01-14\",\"2019-11-01\",\"2019-10-01\",\"2019-09-01\",\"2019-08-01\",\"2019-07-01\",\"2019-04-01\",\"2019-03-01\",\"2019-02-01\",\"2018-12-31\",\"2018-12-28\",\"2018-12-27\",\"2018-12-26\",\"2018-12-24\",\"2018-12-21\",\"2018-12-20\",\"2018-12-19\",\"2018-12-18\",\"2018-12-17\",\"2018-12-14\",\"2018-12-13\",\"2018-12-12\",\"2018-11-12\",\"2018-10-12\",\"2018-07-12\",\"2018-06-12\",\"2018-05-12\",\"2018-04-12\",\"2018-03-12\",\"2018-11-30\",\"2018-11-29\",\"2018-11-28\",\"2018-11-27\",\"2018-11-26\",\"2018-11-23\",\"2018-11-22\",\"2018-11-21\",\"2018-11-20\",\"2018-11-19\",\"2018-11-16\",\"2018-11-15\",\"2018-11-14\",\"2018-11-13\",\"2018-12-11\",\"2018-09-11\",\"2018-08-11\",\"2018-07-11\",\"2018-06-11\",\"2018-05-11\",\"2018-02-11\",\"2018-01-11\",\"2018-10-31\",\"2018-10-30\",\"2018-10-29\",\"2018-10-26\",\"2018-10-25\",\"2018-10-24\",\"2018-10-23\",\"2018-10-22\",\"2018-10-19\",\"2018-10-18\",\"2018-10-17\",\"2018-10-16\",\"2018-10-15\",\"2018-12-10\",\"2018-11-10\",\"2018-10-10\",\"2018-09-10\",\"2018-08-10\",\"2018-05-10\",\"2018-04-10\",\"2018-03-10\",\"2018-02-10\",\"2018-01-10\",\"2018-09-28\",\"2018-09-27\",\"2018-09-26\",\"2018-09-25\",\"2018-09-24\",\"2018-09-21\",\"2018-09-20\",\"2018-09-19\",\"2018-09-18\",\"2018-09-17\",\"2018-09-14\",\"2018-09-13\",\"2018-12-09\",\"2018-11-09\",\"2018-10-09\",\"2018-07-09\",\"2018-06-09\",\"2018-05-09\",\"2018-04-09\",\"2018-03-09\",\"2018-08-31\",\"2018-08-30\",\"2018-08-29\",\"2018-08-28\",\"2018-08-27\",\"2018-08-24\",\"2018-08-23\",\"2018-08-22\",\"2018-08-21\",\"2018-08-20\",\"2018-08-17\",\"2018-08-16\",\"2018-08-15\",\"2018-08-14\",\"2018-08-13\",\"2018-10-08\",\"2018-09-08\",\"2018-08-08\",\"2018-07-08\",\"2018-06-08\",\"2018-03-08\",\"2018-02-08\",\"2018-01-08\",\"2018-07-31\",\"2018-07-30\",\"2018-07-27\",\"2018-07-26\",\"2018-07-25\",\"2018-07-24\",\"2018-07-23\",\"2018-07-20\",\"2018-07-19\",\"2018-07-18\",\"2018-07-17\",\"2018-07-16\",\"2018-07-13\",\"2018-12-07\",\"2018-11-07\",\"2018-10-07\",\"2018-09-07\",\"2018-06-07\",\"2018-05-07\",\"2018-04-07\",\"2018-03-07\",\"2018-02-07\",\"2018-06-29\",\"2018-06-28\",\"2018-06-27\",\"2018-06-26\",\"2018-06-25\",\"2018-06-22\",\"2018-06-21\",\"2018-06-20\",\"2018-06-19\",\"2018-06-18\",\"2018-06-15\",\"2018-06-14\",\"2018-06-13\",\"2018-12-06\",\"2018-11-06\",\"2018-08-06\",\"2018-07-06\",\"2018-06-06\",\"2018-05-06\",\"2018-04-06\",\"2018-01-06\",\"2018-05-31\",\"2018-05-30\",\"2018-05-29\",\"2018-05-28\",\"2018-05-25\",\"2018-05-24\",\"2018-05-23\",\"2018-05-22\",\"2018-05-21\",\"2018-05-18\",\"2018-05-17\",\"2018-05-16\",\"2018-05-15\",\"2018-05-14\",\"2018-11-05\",\"2018-10-05\",\"2018-09-05\",\"2018-08-05\",\"2018-07-05\",\"2018-04-05\",\"2018-03-05\",\"2018-02-05\",\"2018-01-05\",\"2018-04-30\",\"2018-04-27\",\"2018-04-26\",\"2018-04-25\",\"2018-04-24\",\"2018-04-23\",\"2018-04-20\",\"2018-04-19\",\"2018-04-18\",\"2018-04-17\",\"2018-04-16\",\"2018-04-13\",\"2018-12-04\",\"2018-11-04\",\"2018-10-04\",\"2018-09-04\",\"2018-06-04\",\"2018-05-04\",\"2018-04-04\",\"2018-03-04\",\"2018-02-04\",\"2018-03-29\",\"2018-03-28\",\"2018-03-27\",\"2018-03-26\",\"2018-03-23\",\"2018-03-22\",\"2018-03-21\",\"2018-03-20\",\"2018-03-19\",\"2018-03-16\",\"2018-03-15\",\"2018-03-14\",\"2018-03-13\",\"2018-12-03\",\"2018-09-03\",\"2018-08-03\",\"2018-07-03\",\"2018-06-03\",\"2018-05-03\",\"2018-02-03\",\"2018-01-03\",\"2018-02-28\",\"2018-02-27\",\"2018-02-26\",\"2018-02-23\",\"2018-02-22\",\"2018-02-21\",\"2018-02-20\",\"2018-02-19\",\"2018-02-16\",\"2018-02-15\",\"2018-02-14\",\"2018-02-13\",\"2018-12-02\",\"2018-09-02\",\"2018-08-02\",\"2018-07-02\",\"2018-06-02\",\"2018-05-02\",\"2018-02-02\",\"2018-01-02\",\"2018-01-31\",\"2018-01-30\",\"2018-01-29\",\"2018-01-26\",\"2018-01-25\",\"2018-01-24\",\"2018-01-23\",\"2018-01-22\",\"2018-01-19\",\"2018-01-18\",\"2018-01-17\",\"2018-01-16\",\"2018-01-15\",\"2018-12-01\",\"2018-11-01\",\"2018-10-01\",\"2018-09-01\",\"2018-08-01\",\"2018-05-01\",\"2018-04-01\",\"2018-03-01\",\"2018-02-01\",\"2017-12-29\",\"2017-12-28\",\"2017-12-27\",\"2017-12-26\",\"2017-12-22\",\"2017-12-21\",\"2017-12-20\",\"2017-12-19\",\"2017-12-18\",\"2017-12-15\",\"2017-12-14\",\"2017-12-13\",\"2017-12-12\",\"2017-11-12\",\"2017-08-12\",\"2017-07-12\",\"2017-06-12\",\"2017-05-12\",\"2017-04-12\",\"2017-01-12\",\"2017-11-30\",\"2017-11-29\",\"2017-11-28\",\"2017-11-27\",\"2017-11-24\",\"2017-11-23\",\"2017-11-22\",\"2017-11-21\",\"2017-11-20\",\"2017-11-17\",\"2017-11-16\",\"2017-11-15\",\"2017-11-14\",\"2017-11-13\",\"2017-10-11\",\"2017-09-11\",\"2017-08-11\",\"2017-07-11\",\"2017-06-11\",\"2017-03-11\",\"2017-02-11\",\"2017-01-11\",\"2017-10-31\",\"2017-10-30\",\"2017-10-27\",\"2017-10-26\",\"2017-10-25\",\"2017-10-24\",\"2017-10-23\",\"2017-10-20\",\"2017-10-19\",\"2017-10-18\",\"2017-10-17\",\"2017-10-16\",\"2017-10-13\",\"2017-12-10\",\"2017-11-10\",\"2017-10-10\",\"2017-09-10\",\"2017-06-10\",\"2017-05-10\",\"2017-04-10\",\"2017-03-10\",\"2017-02-10\",\"2017-09-29\",\"2017-09-28\",\"2017-09-27\",\"2017-09-26\",\"2017-09-25\",\"2017-09-22\",\"2017-09-21\",\"2017-09-20\",\"2017-09-19\",\"2017-09-18\",\"2017-09-15\",\"2017-09-14\",\"2017-09-13\",\"2017-12-09\",\"2017-11-09\",\"2017-08-09\",\"2017-07-09\",\"2017-06-09\",\"2017-05-09\",\"2017-04-09\",\"2017-01-09\",\"2017-08-31\",\"2017-08-30\",\"2017-08-29\",\"2017-08-28\",\"2017-08-25\",\"2017-08-24\",\"2017-08-23\",\"2017-08-22\",\"2017-08-21\",\"2017-08-18\",\"2017-08-17\",\"2017-08-16\",\"2017-08-15\",\"2017-08-14\",\"2017-11-08\",\"2017-10-08\",\"2017-09-08\",\"2017-08-08\",\"2017-07-08\",\"2017-04-08\",\"2017-03-08\",\"2017-02-08\",\"2017-01-08\",\"2017-07-31\",\"2017-07-28\",\"2017-07-27\",\"2017-07-26\",\"2017-07-25\",\"2017-07-24\",\"2017-07-21\",\"2017-07-20\",\"2017-07-19\",\"2017-07-18\",\"2017-07-17\",\"2017-07-14\",\"2017-07-13\",\"2017-12-07\",\"2017-11-07\",\"2017-10-07\",\"2017-07-07\",\"2017-06-07\",\"2017-05-07\",\"2017-04-07\",\"2017-03-07\",\"2017-06-30\",\"2017-06-29\",\"2017-06-28\",\"2017-06-27\",\"2017-06-26\",\"2017-06-23\",\"2017-06-22\",\"2017-06-21\",\"2017-06-20\",\"2017-06-19\",\"2017-06-16\",\"2017-06-15\",\"2017-06-14\",\"2017-06-13\",\"2017-12-06\",\"2017-09-06\",\"2017-08-06\",\"2017-07-06\",\"2017-06-06\",\"2017-05-06\",\"2017-02-06\",\"2017-01-06\",\"2017-05-31\",\"2017-05-30\",\"2017-05-29\",\"2017-05-26\",\"2017-05-25\",\"2017-05-24\",\"2017-05-23\",\"2017-05-22\",\"2017-05-19\",\"2017-05-18\",\"2017-05-17\",\"2017-05-16\",\"2017-05-15\",\"2017-12-05\",\"2017-11-05\",\"2017-10-05\",\"2017-09-05\",\"2017-08-05\",\"2017-05-05\",\"2017-04-05\",\"2017-03-05\",\"2017-02-05\",\"2017-01-05\",\"2017-04-28\",\"2017-04-27\",\"2017-04-26\",\"2017-04-25\",\"2017-04-24\",\"2017-04-21\",\"2017-04-20\",\"2017-04-19\",\"2017-04-18\",\"2017-04-17\",\"2017-04-13\",\"2017-12-04\",\"2017-11-04\",\"2017-10-04\",\"2017-07-04\",\"2017-06-04\",\"2017-05-04\",\"2017-04-04\",\"2017-03-04\",\"2017-03-31\",\"2017-03-30\",\"2017-03-29\",\"2017-03-28\",\"2017-03-27\",\"2017-03-24\",\"2017-03-23\",\"2017-03-22\",\"2017-03-21\",\"2017-03-20\",\"2017-03-17\",\"2017-03-16\",\"2017-03-15\",\"2017-03-14\",\"2017-03-13\",\"2017-10-03\",\"2017-09-03\",\"2017-08-03\",\"2017-07-03\",\"2017-06-03\",\"2017-03-03\",\"2017-02-03\",\"2017-01-03\",\"2017-02-28\",\"2017-02-27\",\"2017-02-24\",\"2017-02-23\",\"2017-02-22\",\"2017-02-21\",\"2017-02-20\",\"2017-02-17\",\"2017-02-16\",\"2017-02-15\",\"2017-02-14\",\"2017-02-13\",\"2017-10-02\",\"2017-09-02\",\"2017-08-02\",\"2017-07-02\",\"2017-06-02\",\"2017-03-02\",\"2017-02-02\",\"2017-01-02\",\"2017-01-31\",\"2017-01-30\",\"2017-01-27\",\"2017-01-26\",\"2017-01-25\",\"2017-01-24\",\"2017-01-23\",\"2017-01-20\",\"2017-01-19\",\"2017-01-18\",\"2017-01-17\",\"2017-01-16\",\"2017-01-13\",\"2017-12-01\",\"2017-11-01\",\"2017-10-01\",\"2017-09-01\",\"2017-06-01\",\"2017-05-01\",\"2017-04-01\",\"2017-03-01\",\"2016-12-30\",\"2016-12-29\",\"2016-12-28\",\"2016-12-27\",\"2016-12-23\",\"2016-12-22\",\"2016-12-21\",\"2016-12-20\",\"2016-12-19\",\"2016-12-16\",\"2016-12-15\",\"2016-12-14\",\"2016-12-13\",\"2016-12-12\",\"2016-09-12\",\"2016-08-12\",\"2016-07-12\",\"2016-06-12\",\"2016-05-12\",\"2016-02-12\",\"2016-01-12\",\"2016-11-30\",\"2016-11-29\",\"2016-11-28\",\"2016-11-25\",\"2016-11-24\",\"2016-11-23\",\"2016-11-22\",\"2016-11-21\",\"2016-11-18\",\"2016-11-17\",\"2016-11-16\",\"2016-11-15\",\"2016-11-14\",\"2016-11-11\",\"2016-10-11\",\"2016-09-11\",\"2016-08-11\",\"2016-07-11\",\"2016-04-11\",\"2016-03-11\",\"2016-02-11\",\"2016-01-11\",\"2016-10-31\",\"2016-10-28\",\"2016-10-27\",\"2016-10-26\",\"2016-10-25\",\"2016-10-24\",\"2016-10-21\",\"2016-10-20\",\"2016-10-19\",\"2016-10-18\",\"2016-10-17\",\"2016-10-14\",\"2016-10-13\",\"2016-12-10\",\"2016-11-10\",\"2016-10-10\",\"2016-07-10\",\"2016-06-10\",\"2016-05-10\",\"2016-04-10\",\"2016-03-10\",\"2016-09-30\",\"2016-09-29\",\"2016-09-28\",\"2016-09-27\",\"2016-09-26\",\"2016-09-23\",\"2016-09-22\",\"2016-09-21\",\"2016-09-20\",\"2016-09-19\",\"2016-09-16\",\"2016-09-15\",\"2016-09-14\",\"2016-09-13\",\"2016-12-09\",\"2016-09-09\",\"2016-08-09\",\"2016-07-09\",\"2016-06-09\",\"2016-05-09\",\"2016-02-09\",\"2016-01-09\",\"2016-08-31\",\"2016-08-30\",\"2016-08-29\",\"2016-08-26\",\"2016-08-25\",\"2016-08-24\",\"2016-08-23\",\"2016-08-22\",\"2016-08-19\",\"2016-08-18\",\"2016-08-17\",\"2016-08-16\",\"2016-08-15\",\"2016-12-08\",\"2016-11-08\",\"2016-10-08\",\"2016-09-08\",\"2016-08-08\",\"2016-05-08\",\"2016-04-08\",\"2016-03-08\",\"2016-02-08\",\"2016-01-08\",\"2016-07-29\",\"2016-07-28\",\"2016-07-27\",\"2016-07-26\",\"2016-07-25\",\"2016-07-22\",\"2016-07-21\",\"2016-07-20\",\"2016-07-19\",\"2016-07-18\",\"2016-07-15\",\"2016-07-14\",\"2016-07-13\",\"2016-12-07\",\"2016-11-07\",\"2016-08-07\",\"2016-07-07\",\"2016-06-07\",\"2016-05-07\",\"2016-04-07\",\"2016-01-07\",\"2016-06-30\",\"2016-06-29\",\"2016-06-28\",\"2016-06-27\",\"2016-06-24\",\"2016-06-23\",\"2016-06-22\",\"2016-06-21\",\"2016-06-20\",\"2016-06-17\",\"2016-06-16\",\"2016-06-15\",\"2016-06-14\",\"2016-06-13\",\"2016-10-06\",\"2016-09-06\",\"2016-08-06\",\"2016-07-06\",\"2016-06-06\",\"2016-03-06\",\"2016-02-06\",\"2016-01-06\",\"2016-05-31\",\"2016-05-30\",\"2016-05-27\",\"2016-05-26\",\"2016-05-25\",\"2016-05-24\",\"2016-05-23\",\"2016-05-20\",\"2016-05-19\",\"2016-05-18\",\"2016-05-17\",\"2016-05-16\",\"2016-05-13\",\"2016-12-05\",\"2016-11-05\",\"2016-10-05\",\"2016-09-05\",\"2016-06-05\",\"2016-05-05\",\"2016-04-05\",\"2016-03-05\",\"2016-02-05\",\"2016-04-29\",\"2016-04-28\",\"2016-04-27\",\"2016-04-26\",\"2016-04-25\",\"2016-04-22\",\"2016-04-21\",\"2016-04-20\",\"2016-04-19\",\"2016-04-18\",\"2016-04-15\",\"2016-04-14\",\"2016-04-13\",\"2016-12-04\",\"2016-11-04\",\"2016-08-04\",\"2016-07-04\",\"2016-06-04\",\"2016-05-04\",\"2016-04-04\",\"2016-01-04\",\"2016-03-31\",\"2016-03-30\",\"2016-03-29\",\"2016-03-28\",\"2016-03-24\",\"2016-03-23\",\"2016-03-22\",\"2016-03-21\",\"2016-03-18\",\"2016-03-17\",\"2016-03-16\",\"2016-03-15\",\"2016-03-14\",\"2016-11-03\",\"2016-10-03\",\"2016-09-03\",\"2016-08-03\",\"2016-07-03\",\"2016-04-03\",\"2016-03-03\",\"2016-02-03\",\"2016-01-03\",\"2016-02-29\",\"2016-02-26\",\"2016-02-25\",\"2016-02-24\",\"2016-02-23\",\"2016-02-22\",\"2016-02-19\",\"2016-02-18\",\"2016-02-17\",\"2016-02-16\",\"2016-02-15\",\"2016-12-02\",\"2016-11-02\",\"2016-10-02\",\"2016-09-02\",\"2016-08-02\",\"2016-05-02\",\"2016-04-02\",\"2016-03-02\",\"2016-02-02\",\"2016-01-02\",\"2016-01-29\",\"2016-01-28\",\"2016-01-27\",\"2016-01-26\",\"2016-01-25\",\"2016-01-22\",\"2016-01-21\",\"2016-01-20\",\"2016-01-19\",\"2016-01-18\",\"2016-01-15\",\"2016-01-14\",\"2016-01-13\",\"2016-12-01\",\"2016-11-01\",\"2016-08-01\",\"2016-07-01\",\"2016-06-01\",\"2016-05-01\",\"2016-04-01\",\"2015-12-31\",\"2015-12-30\",\"2015-12-29\",\"2015-12-28\",\"2015-12-24\",\"2015-12-23\",\"2015-12-22\",\"2015-12-21\",\"2015-12-18\",\"2015-12-17\",\"2015-12-16\",\"2015-12-15\",\"2015-12-14\",\"2015-11-12\",\"2015-10-12\",\"2015-09-12\",\"2015-08-12\",\"2015-07-12\",\"2015-04-12\",\"2015-03-12\",\"2015-02-12\",\"2015-01-12\",\"2015-11-30\",\"2015-11-27\",\"2015-11-26\",\"2015-11-25\",\"2015-11-24\",\"2015-11-23\",\"2015-11-20\",\"2015-11-19\",\"2015-11-18\",\"2015-11-17\",\"2015-11-16\",\"2015-11-13\",\"2015-12-11\",\"2015-11-11\",\"2015-10-11\",\"2015-09-11\",\"2015-06-11\",\"2015-05-11\",\"2015-04-11\",\"2015-03-11\",\"2015-02-11\",\"2015-10-30\",\"2015-10-29\",\"2015-10-28\",\"2015-10-27\",\"2015-10-26\",\"2015-10-23\",\"2015-10-22\",\"2015-10-21\",\"2015-10-20\",\"2015-10-19\",\"2015-10-16\",\"2015-10-15\",\"2015-10-14\",\"2015-10-13\",\"2015-12-10\",\"2015-09-10\",\"2015-08-10\",\"2015-07-10\",\"2015-06-10\",\"2015-05-10\",\"2015-02-10\",\"2015-01-10\",\"2015-09-30\",\"2015-09-29\",\"2015-09-28\",\"2015-09-25\",\"2015-09-24\",\"2015-09-23\",\"2015-09-22\",\"2015-09-21\",\"2015-09-18\",\"2015-09-17\",\"2015-09-16\",\"2015-09-15\",\"2015-09-14\",\"2015-11-09\",\"2015-10-09\",\"2015-09-09\",\"2015-08-09\",\"2015-07-09\",\"2015-04-09\",\"2015-03-09\",\"2015-02-09\",\"2015-01-09\",\"2015-08-31\",\"2015-08-28\",\"2015-08-27\",\"2015-08-26\",\"2015-08-25\",\"2015-08-24\",\"2015-08-21\",\"2015-08-20\",\"2015-08-19\",\"2015-08-18\",\"2015-08-17\",\"2015-08-14\",\"2015-08-13\",\"2015-12-08\",\"2015-11-08\",\"2015-10-08\",\"2015-07-08\",\"2015-06-08\",\"2015-05-08\",\"2015-04-08\",\"2015-03-08\",\"2015-07-31\",\"2015-07-30\",\"2015-07-29\",\"2015-07-28\",\"2015-07-27\",\"2015-07-24\",\"2015-07-23\",\"2015-07-22\",\"2015-07-21\",\"2015-07-20\",\"2015-07-17\",\"2015-07-16\",\"2015-07-15\",\"2015-07-14\",\"2015-07-13\",\"2015-10-07\",\"2015-09-07\",\"2015-08-07\",\"2015-07-07\",\"2015-06-07\",\"2015-03-07\",\"2015-02-07\",\"2015-01-07\",\"2015-06-30\",\"2015-06-29\",\"2015-06-26\",\"2015-06-25\",\"2015-06-24\",\"2015-06-23\",\"2015-06-22\",\"2015-06-19\",\"2015-06-18\",\"2015-06-17\",\"2015-06-16\",\"2015-06-15\",\"2015-12-06\",\"2015-11-06\",\"2015-10-06\",\"2015-09-06\",\"2015-08-06\",\"2015-05-06\",\"2015-04-06\",\"2015-03-06\",\"2015-02-06\",\"2015-01-06\",\"2015-05-29\",\"2015-05-28\",\"2015-05-27\",\"2015-05-26\",\"2015-05-25\",\"2015-05-22\",\"2015-05-21\",\"2015-05-20\",\"2015-05-19\",\"2015-05-18\",\"2015-05-15\",\"2015-05-14\",\"2015-05-13\",\"2015-12-05\",\"2015-11-05\",\"2015-08-05\",\"2015-07-05\",\"2015-06-05\",\"2015-05-05\",\"2015-04-05\",\"2015-01-05\",\"2015-04-30\",\"2015-04-29\",\"2015-04-28\",\"2015-04-27\",\"2015-04-24\",\"2015-04-23\",\"2015-04-22\",\"2015-04-21\",\"2015-04-20\",\"2015-04-17\",\"2015-04-16\",\"2015-04-15\",\"2015-04-14\",\"2015-04-13\",\"2015-10-04\",\"2015-09-04\",\"2015-08-04\",\"2015-07-04\",\"2015-06-04\",\"2015-03-04\",\"2015-02-04\",\"2015-01-04\",\"2015-03-31\",\"2015-03-30\",\"2015-03-27\",\"2015-03-26\",\"2015-03-25\",\"2015-03-24\",\"2015-03-23\",\"2015-03-20\",\"2015-03-19\",\"2015-03-18\",\"2015-03-17\",\"2015-03-16\",\"2015-03-13\",\"2015-12-03\",\"2015-11-03\",\"2015-10-03\",\"2015-09-03\",\"2015-06-03\",\"2015-05-03\",\"2015-04-03\",\"2015-03-03\",\"2015-02-03\",\"2015-02-27\",\"2015-02-26\",\"2015-02-25\",\"2015-02-24\",\"2015-02-23\",\"2015-02-20\",\"2015-02-19\",\"2015-02-18\",\"2015-02-17\",\"2015-02-16\",\"2015-02-13\",\"2015-12-02\",\"2015-11-02\",\"2015-10-02\",\"2015-09-02\",\"2015-06-02\",\"2015-05-02\",\"2015-04-02\",\"2015-03-02\",\"2015-02-02\",\"2015-01-30\",\"2015-01-29\",\"2015-01-28\",\"2015-01-27\",\"2015-01-26\",\"2015-01-23\",\"2015-01-22\",\"2015-01-21\",\"2015-01-20\",\"2015-01-19\",\"2015-01-16\",\"2015-01-15\",\"2015-01-14\",\"2015-01-13\",\"2015-12-01\",\"2015-09-01\",\"2015-08-01\",\"2015-07-01\",\"2015-06-01\",\"2015-05-01\",\"2015-02-01\",\"2014-12-31\",\"2014-12-30\",\"2014-12-29\",\"2014-12-26\",\"2014-12-24\",\"2014-12-23\",\"2014-12-22\",\"2014-12-19\",\"2014-12-18\",\"2014-12-17\",\"2014-12-16\",\"2014-12-15\",\"2014-12-12\",\"2014-11-12\",\"2014-10-12\",\"2014-09-12\",\"2014-08-12\",\"2014-05-12\",\"2014-04-12\",\"2014-03-12\",\"2014-02-12\",\"2014-01-12\",\"2014-11-28\",\"2014-11-27\",\"2014-11-26\",\"2014-11-25\",\"2014-11-24\",\"2014-11-21\",\"2014-11-20\",\"2014-11-19\",\"2014-11-18\",\"2014-11-17\",\"2014-11-14\",\"2014-11-13\",\"2014-12-11\",\"2014-11-11\",\"2014-10-11\",\"2014-07-11\",\"2014-06-11\",\"2014-05-11\",\"2014-04-11\",\"2014-03-11\",\"2014-10-31\",\"2014-10-30\",\"2014-10-29\",\"2014-10-28\",\"2014-10-27\",\"2014-10-24\",\"2014-10-23\",\"2014-10-22\",\"2014-10-21\",\"2014-10-20\",\"2014-10-17\",\"2014-10-16\",\"2014-10-15\",\"2014-10-14\",\"2014-10-13\",\"2014-10-10\",\"2014-09-10\",\"2014-08-10\",\"2014-07-10\",\"2014-06-10\",\"2014-03-10\",\"2014-02-10\",\"2014-01-10\",\"2014-09-30\",\"2014-09-29\",\"2014-09-26\",\"2014-09-25\",\"2014-09-24\",\"2014-09-23\",\"2014-09-22\",\"2014-09-19\",\"2014-09-18\",\"2014-09-17\",\"2014-09-16\",\"2014-09-15\",\"2014-12-09\",\"2014-11-09\",\"2014-10-09\",\"2014-09-09\",\"2014-08-09\",\"2014-05-09\",\"2014-04-09\",\"2014-03-09\",\"2014-02-09\",\"2014-01-09\",\"2014-08-29\",\"2014-08-28\",\"2014-08-27\",\"2014-08-26\",\"2014-08-25\",\"2014-08-22\",\"2014-08-21\",\"2014-08-20\",\"2014-08-19\",\"2014-08-18\",\"2014-08-15\",\"2014-08-14\",\"2014-08-13\",\"2014-12-08\",\"2014-11-08\",\"2014-08-08\",\"2014-07-08\",\"2014-06-08\",\"2014-05-08\",\"2014-04-08\",\"2014-01-08\",\"2014-07-31\",\"2014-07-30\",\"2014-07-29\",\"2014-07-28\",\"2014-07-25\",\"2014-07-24\",\"2014-07-23\",\"2014-07-22\",\"2014-07-21\",\"2014-07-18\",\"2014-07-17\",\"2014-07-16\",\"2014-07-15\",\"2014-07-14\",\"2014-11-07\",\"2014-10-07\",\"2014-09-07\",\"2014-08-07\",\"2014-07-07\",\"2014-04-07\",\"2014-03-07\",\"2014-02-07\",\"2014-01-07\",\"2014-06-30\",\"2014-06-27\",\"2014-06-26\",\"2014-06-25\",\"2014-06-24\",\"2014-06-23\",\"2014-06-20\",\"2014-06-19\",\"2014-06-18\",\"2014-06-17\",\"2014-06-16\",\"2014-06-13\",\"2014-12-06\",\"2014-11-06\",\"2014-10-06\",\"2014-09-06\",\"2014-06-06\",\"2014-05-06\",\"2014-04-06\",\"2014-03-06\",\"2014-02-06\",\"2014-05-30\",\"2014-05-29\",\"2014-05-28\",\"2014-05-27\",\"2014-05-26\",\"2014-05-23\",\"2014-05-22\",\"2014-05-21\",\"2014-05-20\",\"2014-05-19\",\"2014-05-16\",\"2014-05-15\",\"2014-05-14\",\"2014-05-13\",\"2014-12-05\",\"2014-09-05\",\"2014-08-05\",\"2014-07-05\",\"2014-06-05\",\"2014-05-05\",\"2014-02-05\",\"2014-01-05\",\"2014-04-30\",\"2014-04-29\",\"2014-04-28\",\"2014-04-25\",\"2014-04-24\",\"2014-04-23\",\"2014-04-22\",\"2014-04-21\",\"2014-04-17\",\"2014-04-16\",\"2014-04-15\",\"2014-04-14\",\"2014-11-04\",\"2014-10-04\",\"2014-09-04\",\"2014-08-04\",\"2014-07-04\",\"2014-04-04\",\"2014-03-04\",\"2014-02-04\",\"2014-01-04\",\"2014-03-31\",\"2014-03-28\",\"2014-03-27\",\"2014-03-26\",\"2014-03-25\",\"2014-03-24\",\"2014-03-21\",\"2014-03-20\",\"2014-03-19\",\"2014-03-18\",\"2014-03-17\",\"2014-03-14\",\"2014-03-13\",\"2014-12-03\",\"2014-11-03\",\"2014-10-03\",\"2014-07-03\",\"2014-06-03\",\"2014-05-03\",\"2014-04-03\",\"2014-03-03\",\"2014-02-28\",\"2014-02-27\",\"2014-02-26\",\"2014-02-25\",\"2014-02-24\",\"2014-02-21\",\"2014-02-20\",\"2014-02-19\",\"2014-02-18\",\"2014-02-17\",\"2014-02-14\",\"2014-02-13\",\"2014-12-02\",\"2014-11-02\",\"2014-10-02\",\"2014-07-02\",\"2014-06-02\",\"2014-05-02\",\"2014-04-02\",\"2014-03-02\",\"2014-01-31\",\"2014-01-30\",\"2014-01-29\",\"2014-01-28\",\"2014-01-27\",\"2014-01-24\",\"2014-01-23\",\"2014-01-22\",\"2014-01-21\",\"2014-01-20\",\"2014-01-17\",\"2014-01-16\",\"2014-01-15\",\"2014-01-14\",\"2014-01-13\",\"2014-10-01\",\"2014-09-01\",\"2014-08-01\",\"2014-07-01\",\"2014-06-01\",\"2014-03-01\",\"2014-02-01\",\"2013-12-31\",\"2013-12-30\",\"2013-12-27\",\"2013-12-26\",\"2013-12-24\",\"2013-12-23\",\"2013-12-20\",\"2013-12-19\",\"2013-12-18\",\"2013-12-17\",\"2013-12-16\",\"2013-12-13\",\"2013-12-12\",\"2013-11-12\",\"2013-10-12\",\"2013-09-12\",\"2013-06-12\",\"2013-05-12\",\"2013-04-12\",\"2013-03-12\",\"2013-02-12\",\"2013-11-29\",\"2013-11-28\",\"2013-11-27\",\"2013-11-26\",\"2013-11-25\",\"2013-11-22\",\"2013-11-21\",\"2013-11-20\",\"2013-11-19\",\"2013-11-18\",\"2013-11-15\",\"2013-11-14\",\"2013-11-13\",\"2013-12-11\",\"2013-11-11\",\"2013-08-11\",\"2013-07-11\",\"2013-06-11\",\"2013-05-11\",\"2013-04-11\",\"2013-01-11\",\"2013-10-31\",\"2013-10-30\",\"2013-10-29\",\"2013-10-28\",\"2013-10-25\",\"2013-10-24\",\"2013-10-23\",\"2013-10-22\",\"2013-10-21\",\"2013-10-18\",\"2013-10-17\",\"2013-10-16\",\"2013-10-15\",\"2013-10-14\",\"2013-11-10\",\"2013-10-10\",\"2013-09-10\",\"2013-08-10\",\"2013-07-10\",\"2013-04-10\",\"2013-03-10\",\"2013-02-10\",\"2013-01-10\",\"2013-09-30\",\"2013-09-27\",\"2013-09-26\",\"2013-09-25\",\"2013-09-24\",\"2013-09-23\",\"2013-09-20\",\"2013-09-19\",\"2013-09-18\",\"2013-09-17\",\"2013-09-16\",\"2013-09-13\",\"2013-12-09\",\"2013-11-09\",\"2013-10-09\",\"2013-09-09\",\"2013-06-09\",\"2013-05-09\",\"2013-04-09\",\"2013-03-09\",\"2013-02-09\",\"2013-08-30\",\"2013-08-29\",\"2013-08-28\",\"2013-08-27\",\"2013-08-26\",\"2013-08-23\",\"2013-08-22\",\"2013-08-21\",\"2013-08-20\",\"2013-08-19\",\"2013-08-16\",\"2013-08-15\",\"2013-08-14\",\"2013-08-13\",\"2013-12-08\",\"2013-09-08\",\"2013-08-08\",\"2013-07-08\",\"2013-06-08\",\"2013-05-08\",\"2013-02-08\",\"2013-01-08\",\"2013-07-31\",\"2013-07-30\",\"2013-07-29\",\"2013-07-26\",\"2013-07-25\",\"2013-07-24\",\"2013-07-23\",\"2013-07-22\",\"2013-07-19\",\"2013-07-18\",\"2013-07-17\",\"2013-07-16\",\"2013-07-15\",\"2013-12-07\",\"2013-11-07\",\"2013-10-07\",\"2013-09-07\",\"2013-08-07\",\"2013-05-07\",\"2013-04-07\",\"2013-03-07\",\"2013-02-07\",\"2013-01-07\",\"2013-06-28\",\"2013-06-27\",\"2013-06-26\",\"2013-06-25\",\"2013-06-24\",\"2013-06-21\",\"2013-06-20\",\"2013-06-19\",\"2013-06-18\",\"2013-06-17\",\"2013-06-14\",\"2013-06-13\",\"2013-12-06\",\"2013-11-06\",\"2013-10-06\",\"2013-07-06\",\"2013-06-06\",\"2013-05-06\",\"2013-04-06\",\"2013-03-06\",\"2013-05-31\",\"2013-05-30\",\"2013-05-29\",\"2013-05-28\",\"2013-05-27\",\"2013-05-24\",\"2013-05-23\",\"2013-05-22\",\"2013-05-21\",\"2013-05-20\",\"2013-05-17\",\"2013-05-16\",\"2013-05-15\",\"2013-05-14\",\"2013-05-13\",\"2013-10-05\",\"2013-09-05\",\"2013-08-05\",\"2013-07-05\",\"2013-06-05\",\"2013-03-05\",\"2013-02-05\",\"2013-01-05\",\"2013-04-30\",\"2013-04-29\",\"2013-04-26\",\"2013-04-25\",\"2013-04-24\",\"2013-04-23\",\"2013-04-22\",\"2013-04-19\",\"2013-04-18\",\"2013-04-17\",\"2013-04-16\",\"2013-04-15\",\"2013-12-04\",\"2013-11-04\",\"2013-10-04\",\"2013-09-04\",\"2013-08-04\",\"2013-05-04\",\"2013-04-04\",\"2013-03-04\",\"2013-02-04\",\"2013-01-04\",\"2013-03-28\",\"2013-03-27\",\"2013-03-26\",\"2013-03-25\",\"2013-03-22\",\"2013-03-21\",\"2013-03-20\",\"2013-03-19\",\"2013-03-18\",\"2013-03-15\",\"2013-03-14\",\"2013-03-13\",\"2013-12-03\",\"2013-11-03\",\"2013-08-03\",\"2013-07-03\",\"2013-06-03\",\"2013-05-03\",\"2013-04-03\",\"2013-01-03\",\"2013-02-28\",\"2013-02-27\",\"2013-02-26\",\"2013-02-25\",\"2013-02-22\",\"2013-02-21\",\"2013-02-20\",\"2013-02-19\",\"2013-02-18\",\"2013-02-15\",\"2013-02-14\",\"2013-02-13\",\"2013-12-02\",\"2013-11-02\",\"2013-08-02\",\"2013-07-02\",\"2013-06-02\",\"2013-05-02\",\"2013-04-02\",\"2013-01-02\",\"2013-01-31\",\"2013-01-30\",\"2013-01-29\",\"2013-01-28\",\"2013-01-25\",\"2013-01-24\",\"2013-01-23\",\"2013-01-22\",\"2013-01-21\",\"2013-01-18\",\"2013-01-17\",\"2013-01-16\",\"2013-01-15\",\"2013-01-14\",\"2013-11-01\",\"2013-10-01\",\"2013-09-01\",\"2013-08-01\",\"2013-07-01\",\"2013-04-01\",\"2013-03-01\",\"2013-02-01\",\"2012-12-31\",\"2012-12-28\",\"2012-12-27\",\"2012-12-26\",\"2012-12-24\",\"2012-12-21\",\"2012-12-20\",\"2012-12-19\",\"2012-12-18\",\"2012-12-17\",\"2012-12-14\",\"2012-12-13\",\"2012-12-12\",\"2012-11-12\",\"2012-10-12\",\"2012-07-12\",\"2012-06-12\",\"2012-05-12\",\"2012-04-12\",\"2012-03-12\",\"2012-11-30\",\"2012-11-29\",\"2012-11-28\",\"2012-11-27\",\"2012-11-26\",\"2012-11-23\",\"2012-11-22\",\"2012-11-21\",\"2012-11-20\",\"2012-11-19\",\"2012-11-16\",\"2012-11-15\",\"2012-11-14\",\"2012-11-13\",\"2012-12-11\",\"2012-09-11\",\"2012-08-11\",\"2012-07-11\",\"2012-06-11\",\"2012-05-11\",\"2012-02-11\",\"2012-01-11\",\"2012-10-31\",\"2012-10-30\",\"2012-10-29\",\"2012-10-26\",\"2012-10-25\",\"2012-10-24\",\"2012-10-23\",\"2012-10-22\",\"2012-10-19\",\"2012-10-18\",\"2012-10-17\",\"2012-10-16\",\"2012-10-15\",\"2012-12-10\",\"2012-11-10\",\"2012-10-10\",\"2012-09-10\",\"2012-08-10\",\"2012-05-10\",\"2012-04-10\",\"2012-03-10\",\"2012-02-10\",\"2012-01-10\",\"2012-09-28\",\"2012-09-27\",\"2012-09-26\",\"2012-09-25\",\"2012-09-24\",\"2012-09-21\",\"2012-09-20\",\"2012-09-19\",\"2012-09-18\",\"2012-09-17\",\"2012-09-14\",\"2012-09-13\",\"2012-12-09\",\"2012-11-09\",\"2012-10-09\",\"2012-07-09\",\"2012-06-09\",\"2012-05-09\",\"2012-04-09\",\"2012-03-09\",\"2012-08-31\",\"2012-08-30\",\"2012-08-29\",\"2012-08-28\",\"2012-08-27\",\"2012-08-24\",\"2012-08-23\",\"2012-08-22\",\"2012-08-21\",\"2012-08-20\",\"2012-08-17\",\"2012-08-16\",\"2012-08-15\",\"2012-08-14\",\"2012-08-13\",\"2012-10-08\",\"2012-09-08\",\"2012-08-08\",\"2012-07-08\",\"2012-06-08\",\"2012-03-08\",\"2012-02-08\",\"2012-01-08\",\"2012-07-31\",\"2012-07-30\",\"2012-07-27\",\"2012-07-26\",\"2012-07-25\",\"2012-07-24\",\"2012-07-23\",\"2012-07-20\",\"2012-07-19\",\"2012-07-18\",\"2012-07-17\",\"2012-07-16\",\"2012-07-13\",\"2012-12-07\",\"2012-11-07\",\"2012-10-07\",\"2012-09-07\",\"2012-06-07\",\"2012-05-07\",\"2012-04-07\",\"2012-03-07\",\"2012-02-07\",\"2012-06-29\",\"2012-06-28\",\"2012-06-27\",\"2012-06-26\",\"2012-06-25\",\"2012-06-22\",\"2012-06-21\",\"2012-06-20\",\"2012-06-19\",\"2012-06-18\",\"2012-06-15\",\"2012-06-14\",\"2012-06-13\",\"2012-12-06\",\"2012-11-06\",\"2012-08-06\",\"2012-07-06\",\"2012-06-06\",\"2012-05-06\",\"2012-04-06\",\"2012-01-06\",\"2012-05-31\",\"2012-05-30\",\"2012-05-29\",\"2012-05-28\",\"2012-05-25\",\"2012-05-24\",\"2012-05-23\",\"2012-05-22\",\"2012-05-21\",\"2012-05-18\",\"2012-05-17\",\"2012-05-16\",\"2012-05-15\",\"2012-05-14\",\"2012-11-05\",\"2012-10-05\",\"2012-09-05\",\"2012-08-05\",\"2012-07-05\",\"2012-04-05\",\"2012-03-05\",\"2012-02-05\",\"2012-01-05\",\"2012-04-30\",\"2012-04-27\",\"2012-04-26\",\"2012-04-25\",\"2012-04-24\",\"2012-04-23\",\"2012-04-20\",\"2012-04-19\",\"2012-04-18\",\"2012-04-17\",\"2012-04-16\",\"2012-04-13\",\"2012-12-04\",\"2012-11-04\",\"2012-10-04\",\"2012-09-04\",\"2012-05-04\",\"2012-04-04\",\"2012-03-04\",\"2012-02-04\",\"2012-03-30\",\"2012-03-29\",\"2012-03-28\",\"2012-03-27\",\"2012-03-26\",\"2012-03-23\",\"2012-03-22\",\"2012-03-21\",\"2012-03-20\",\"2012-03-19\",\"2012-03-16\",\"2012-03-15\",\"2012-03-14\",\"2012-03-13\",\"2012-12-03\",\"2012-09-03\",\"2012-08-03\",\"2012-07-03\",\"2012-06-03\",\"2012-05-03\",\"2012-02-03\",\"2012-01-03\",\"2012-02-29\",\"2012-02-28\",\"2012-02-27\",\"2012-02-24\",\"2012-02-23\",\"2012-02-22\",\"2012-02-21\",\"2012-02-20\",\"2012-02-17\",\"2012-02-16\",\"2012-02-15\",\"2012-02-14\",\"2012-02-13\",\"2012-10-02\",\"2012-09-02\",\"2012-08-02\",\"2012-07-02\",\"2012-06-02\",\"2012-03-02\",\"2012-02-02\",\"2012-01-02\",\"2012-01-31\",\"2012-01-30\",\"2012-01-27\",\"2012-01-26\",\"2012-01-25\",\"2012-01-24\",\"2012-01-23\",\"2012-01-20\",\"2012-01-19\",\"2012-01-18\",\"2012-01-17\",\"2012-01-16\",\"2012-01-13\",\"2012-12-01\",\"2012-11-01\",\"2012-10-01\",\"2012-09-01\",\"2012-06-01\",\"2012-05-01\",\"2012-04-01\",\"2012-03-01\"],\"xaxis\":\"x\",\"y\":[1998.5,1997.4,1994.9,1986.1,1987.8,1994.4,1980.5,1968.3,1935.7,1934.3,1941.5,1883.0,1887.3,1875.3,1864.3,1845.2,1831.8,1834.8,1841.5,1847.2,1866.1,1878.6,1890.9,1919.8,1936.6,1945.6,1939.6,1967.1,1953.7,1953.4,1946.2,1932.8,1932.5,1935.1,1947.2,1942.7,1942.5,1944.2,1952.6,1963.25,1966.65,1967.1,1965.9,1973.0,1965.1,1946.8,1939.9,1947.1,1948.1,1926.0,1923.0,1916.5,1915.2,1928.3,1935.2,1944.0,1946.6,1948.9,1950.6,1959.9,1970.0,1976.1,1968.8,1975.0,1978.8,2009.2,1999.9,1965.3,1989.7,1983.1,1981.6,1966.6,1970.9,1980.8,1980.8,1956.4,1964.4,1963.8,1961.7,1937.1,1931.0,1932.5,1915.4,1927.1,1933.95,1929.5,1929.4,1917.9,1913.4,1915.1,1925.1,1921.0,1915.0,1936.1,1938.9,1964.05,1969.45,1962.2,1961.8,1968.9,1958.6,1969.7,1977.2,1978.6,1958.4,1981.5,1974.3,1969.6,1995.5,1982.1,1977.1,1959.75,1961.5,1963.1,1943.1,1962.8,1972.4,1974.8,1978.7,1956.5,1980.7,1988.4,2018.0,2019.8,2020.5,2037.1,2042.9,2033.2,2024.8,2055.7,2037.0,2023.3,1992.2,1999.1,1999.0,1986.9,1995.1,1990.6,1981.3,2009.8,1998.0,2010.3,1994.2,2002.2,2041.3,2010.9,2004.8,1989.1,2011.9,2020.9,2022.2,1983.9,1969.0,1980.3,1966.9,1973.5,1971.5,2001.7,2013.3,1966.6,1958.3,1999.7,1990.2,1939.7,1948.1,1910.9,1916.5,1867.2,1834.6,1818.6,1820.0,1854.6,1854.6,1840.5,1845.4,1836.7,1824.9,1809.2,1818.8,1833.3,1842.5,1850.5,1847.75,1840.4,1842.0,1834.2,1854.0,1851.9,1862.8,1866.2,1877.4,1871.7,1866.2,1862.9,1916.3,1927.8,1929.5,1922.9,1936.6,1937.6,1950.3,1943.1,1936.2,1928.2,1923.9,1907.0,1907.2,1909.9,1919.9,1921.7,1898.8,1878.9,1876.5,1877.8,1869.7,1840.6,1859.0,1846.1,1835.8,1826.2,1826.0,1815.8,1823.1,1809.7,1804.2,1795.3,1825.4,1825.4,1797.7,1800.2,1787.8,1818.7,1825.5,1792.3,1810.7,1801.5,1798.0,1782.4,1781.3,1809.6,1815.2,1759.9,1763.7,1740.3,1754.0,1754.0,1745.6,1739.9,1739.6,1754.4,1763.0,1775.8,1776.8,1776.9,1769.4,1753.7,1713.7,1716.0,1680.5,1676.6,1630.9,1650.0,1649.7,1640.7,1644.8,1665.6,1669.2,1658.0,1654.1,1656.3,1636.8,1634.2,1655.8,1664.0,1648.9,1677.0,1677.5,1686.0,1675.2,1709.3,1720.8,1720.8,1730.5,1702.0,1672.0,1668.6,1670.0,1636.2,1633.4,1655.6,1681.1,1675.7,1671.1,1678.2,1683.5,1677.3,1709.1,1717.4,1740.6,1728.6,1720.2,1727.8,1707.9,1712.9,1718.65,1722.6,1709.3,1726.2,1736.3,1749.7,1749.8,1771.4,1761.5,1761.2,1748.4,1762.9,1771.2,1776.7,1789.7,1798.1,1815.5,1807.2,1813.7,1812.3,1805.2,1791.2,1806.9,1776.4,1789.7,1787.7,1781.8,1769.2,1719.1,1717.7,1719.1,1727.4,1713.4,1700.2,1710.7,1710.2,1703.6,1705.8,1735.5,1724.8,1731.7,1742.3,1739.7,1736.5,1768.9,1763.9,1801.5,1807.3,1817.5,1821.2,1824.8,1830.3,1829.8,1838.4,1838.8,1838.8,1840.6,1849.9,1819.6,1813.5,1831.8,1875.5,1852.8,1856.5,1852.1,1843.7,1850.2,1871.4,1848.7,1848.4,1848.4,1857.3,1847.6,1846.3,1865.4,1847.8,1842.1,1841.2,1815.9,1818.9,1814.0,1808.2,1824.6,1853.7,1841.0,1858.6,1882.8,1875.7,1868.8,1870.6,1863.6,1911.7,1891.3,1888.7,1904.1,1896.0,1934.3,1948.2,1955.6,1959.0,1986.4,1974.9,1984.7,1976.1,1948.2,1945.6,1937.8,1923.1,1927.5,1934.0,1923.7,1954.0,1939.0,1912.2,1939.8,1954.2,1962.2,1937.3,1921.5,1929.5,1929.3,1943.2,1909.2,1929.7,1960.8,1985.0,2000.4,1988.2,2043.3,1995.9,1966.6,1935.9,1922.3,1943.8,1900.7,1887.6,1926.3,1910.4,1907.4,1907.4,1899.8,1902.0,1871.5,1856.2,1869.4,1842.1,1837.4,1836.6,1827.9,1821.8,1807.8,1804.1,1810.3,1801.5,1796.4,1786.6,1793.1,1829.7,1852.5,1841.7,1831.8,1842.6,1843.2,1814.1,1812.4,1816.5,1821.4,1827.3,1818.5,1798.8,1797.4,1789.2,1825.1,1814.6,1800.1,1828.6,1814.1,1805.8,1810.9,1808.8,1811.7,1802.2,1788.7,1794.6,1804.9,1798.2,1764.5,1772.3,1788.3,1784.8,1776.7,1785.5,1784.7,1779.5,1783.9,1762.7,1784.3,1776.5,1785.2,1786.9,1788.1,1784.3,1783.8,1806.3,1851.6,1861.4,1870.2,1854.1,1866.6,1868.5,1863.9,1848.3,1830.8,1828.0,1816.8,1793.5,1763.9,1789.4,1795.8,1783.9,1802.6,1798.8,1793.4,1806.8,1796.3,1781.9,1784.9,1770.5,1765.7,1768.3,1797.9,1794.7,1759.3,1755.7,1757.4,1759.2,1761.8,1760.9,1767.6,1758.4,1757.0,1722.9,1737.5,1752.0,1751.7,1749.8,1778.8,1778.2,1763.8,1751.4,1756.7,1794.8,1807.1,1794.4,1792.1,1800.0,1793.5,1797.4,1798.5,1833.7,1811.5,1816.0,1818.1,1812.2,1819.5,1795.2,1791.0,1808.5,1806.3,1784.0,1783.1,1784.4,1787.8,1789.8,1778.2,1751.8,1753.3,1731.7,1726.5,1763.1,1808.9,1814.5,1814.1,1822.2,1817.2,1835.8,1799.7,1799.8,1799.2,1801.8,1805.4,1803.4,1811.4,1809.2,1815.0,1829.0,1825.0,1809.9,1805.9,1810.6,1800.2,1802.1,1795.0,1794.2,1783.3,1776.8,1771.6,1763.6,1780.7,1777.8,1776.7,1783.4,1777.4,1782.9,1769.0,1774.8,1861.4,1856.4,1865.9,1879.6,1896.4,1895.5,1894.4,1898.8,1892.0,1873.3,1909.9,1905.0,1905.0,1905.3,1895.7,1901.2,1898.0,1884.5,1876.7,1881.9,1881.5,1868.0,1867.6,1838.1,1824.0,1822.8,1836.1,1837.6,1831.3,1815.7,1784.3,1776.0,1791.8,1767.7,1768.3,1773.9,1778.8,1780.1,1777.8,1782.0,1793.1,1778.4,1770.6,1780.2,1766.8,1736.3,1747.6,1732.7,1744.8,1758.2,1741.6,1743.0,1728.8,1728.4,1715.6,1686.0,1712.2,1732.3,1725.1,1733.2,1725.1,1738.1,1741.7,1732.5,1727.1,1730.9,1729.2,1719.8,1722.6,1721.8,1716.9,1678.0,1698.5,1700.7,1715.8,1733.6,1723.0,1728.8,1775.4,1797.9,1805.9,1808.4,1777.4,1775.0,1772.8,1799.0,1799.0,1823.2,1826.8,1842.7,1837.5,1834.2,1813.0,1791.2,1835.1,1833.4,1863.9,1850.3,1841.2,1844.9,1850.9,1855.2,1856.2,1865.9,1866.5,1842.0,1840.2,1829.9,1851.4,1854.9,1844.2,1850.8,1835.4,1913.6,1908.6,1954.4,1946.6,1895.1,1893.4,1882.9,1880.4,1883.2,1878.1,1870.3,1882.8,1888.9,1890.4,1859.1,1855.3,1832.1,1843.6,1837.4,1838.5,1874.9,1866.0,1840.0,1841.1,1830.2,1818.9,1780.9,1788.1,1788.1,1805.5,1804.6,1837.8,1872.4,1861.5,1873.9,1885.1,1887.8,1886.2,1873.3,1861.6,1876.4,1854.4,1951.7,1946.8,1896.2,1910.4,1892.5,1879.9,1868.0,1879.2,1911.9,1905.7,1905.2,1904.6,1929.5,1915.4,1911.7,1906.4,1908.9,1907.3,1894.6,1928.9,1926.2,1895.1,1890.8,1908.8,1920.1,1907.6,1916.3,1895.5,1903.2,1882.3,1866.3,1876.9,1868.4,1907.6,1910.6,1962.1,1949.9,1970.5,1966.2,1963.7,1947.9,1964.3,1954.9,1939.5,1943.2,1934.3,1937.8,1944.7,1978.9,1978.6,1974.9,1932.6,1952.5,1923.1,1939.2,1947.0,1946.5,1970.3,2013.1,1998.7,1949.8,1970.4,1949.0,1946.3,2039.7,2028.0,2069.4,2049.3,2021.0,1986.3,1985.9,1966.8,1953.4,1944.6,1931.0,1897.5,1890.0,1865.1,1843.9,1817.4,1810.0,1800.3,1813.8,1813.4,1814.1,1801.9,1803.8,1820.6,1809.9,1799.0,1793.5,1790.0,1779.9,1800.5,1781.2,1780.3,1770.6,1775.1,1782.0,1766.4,1753.0,1731.1,1735.6,1736.5,1727.2,1737.3,1739.8,1720.7,1721.9,1705.1,1683.0,1727.4,1704.8,1734.0,1750.3,1751.7,1728.3,1710.7,1717.3,1705.6,1735.5,1721.9,1752.1,1745.6,1734.4,1756.3,1740.9,1716.4,1706.8,1698.0,1713.9,1725.8,1688.5,1710.6,1713.3,1700.9,1694.2,1713.4,1722.2,1723.8,1735.6,1745.4,1738.3,1687.8,1711.2,1698.8,1731.7,1740.2,1768.9,1761.4,1752.8,1684.3,1683.7,1693.9,1645.7,1637.7,1591.4,1596.6,1643.2,1654.1,1651.2,1633.4,1660.8,1567.6,1484.6,1479.3,1477.9,1525.8,1486.5,1516.7,1590.3,1642.3,1660.3,1675.7,1672.4,1668.0,1643.0,1644.4,1594.8,1566.7,1642.5,1643.1,1650.0,1676.6,1648.8,1620.5,1611.8,1603.6,1603.6,1586.4,1578.8,1571.6,1570.1,1579.5,1573.4,1570.0,1562.8,1555.5,1582.4,1587.9,1589.2,1570.4,1569.8,1577.4,1571.9,1565.4,1556.7,1560.8,1557.9,1560.3,1550.5,1554.0,1544.6,1550.6,1560.1,1554.3,1560.2,1574.3,1568.8,1552.4,1528.1,1523.1,1518.6,1518.1,1514.4,1504.8,1488.7,1480.9,1484.4,1478.7,1480.6,1480.5,1481.2,1472.3,1475.0,1468.1,1464.9,1465.1,1483.1,1480.2,1484.4,1469.2,1472.7,1472.7,1453.4,1460.3,1456.9,1463.6,1463.6,1474.2,1474.3,1471.9,1468.5,1473.4,1463.3,1453.7,1457.1,1462.9,1466.4,1493.1,1483.7,1511.1,1511.4,1514.8,1496.7,1490.7,1495.8,1505.3,1504.7,1495.7,1487.5,1488.1,1494.1,1498.3,1494.0,1483.5,1497.6,1488.7,1500.9,1512.8,1503.9,1504.4,1512.9,1513.8,1507.9,1489.0,1472.9,1506.4,1515.2,1512.3,1540.2,1531.5,1515.1,1506.2,1515.8,1513.4,1511.5,1499.5,1507.4,1503.2,1499.2,1511.1,1515.5,1525.5,1560.4,1552.8,1555.9,1529.4,1536.9,1549.1,1551.8,1537.2,1537.6,1508.5,1515.7,1515.7,1511.6,1523.6,1531.2,1527.8,1514.1,1517.2,1508.5,1509.5,1519.6,1484.2,1476.5,1457.5,1432.4,1437.8,1441.8,1420.4,1419.3,1414.7,1423.6,1421.7,1426.9,1426.7,1428.1,1423.3,1411.2,1413.5,1412.2,1406.7,1412.5,1400.5,1400.0,1403.4,1400.1,1420.9,1408.0,1389.3,1413.7,1412.0,1415.4,1418.7,1418.2,1400.1,1396.9,1348.8,1350.7,1342.9,1344.5,1343.7,1336.8,1331.2,1329.3,1346.1,1342.7,1333.6,1328.7,1327.9,1311.1,1292.4,1281.0,1280.1,1277.1,1283.6,1285.4,1274.2,1273.2,1277.3,1275.7,1286.2,1297.8,1296.3,1301.8,1287.4,1285.2,1281.4,1285.6,1283.8,1281.3,1272.0,1284.2,1285.7,1281.5,1288.8,1279.7,1279.4,1273.2,1277.6,1276.0,1276.8,1277.2,1291.3,1295.2,1293.3,1313.9,1308.3,1301.9,1295.6,1294.3,1295.3,1295.4,1294.2,1298.5,1295.3,1310.4,1315.0,1322.6,1312.3,1307.3,1301.7,1306.5,1301.5,1302.9,1295.1,1309.3,1298.1,1291.1,1299.3,1286.1,1287.6,1284.7,1287.5,1299.2,1316.1,1321.2,1328.5,1329.5,1332.8,1327.8,1347.9,1344.8,1344.8,1322.1,1313.9,1315.1,1314.0,1311.9,1318.5,1314.2,1314.4,1319.2,1319.3,1322.1,1325.2,1315.5,1308.9,1303.1,1298.1,1279.8,1284.0,1285.8,1283.4,1282.6,1292.3,1293.8,1288.4,1291.3,1289.5,1287.4,1292.0,1285.9,1289.9,1285.8,1294.8,1284.1,1281.3,1283.0,1281.1,1273.0,1271.8,1258.1,1267.9,1256.4,1253.6,1251.8,1241.4,1247.4,1250.0,1247.2,1249.4,1252.6,1243.6,1242.6,1246.6,1239.6,1226.0,1230.4,1223.6,1213.4,1222.4,1226.6,1223.2,1228.0,1221.2,1225.3,1223.0,1215.0,1210.1,1201.4,1203.5,1208.6,1225.1,1228.7,1226.3,1232.3,1233.3,1238.6,1215.0,1225.3,1227.6,1235.8,1232.4,1231.1,1236.8,1224.6,1228.7,1230.1,1227.4,1231.0,1230.3,1222.0,1227.6,1193.4,1191.5,1188.6,1205.6,1201.6,1202.9,1207.0,1191.7,1196.2,1187.4,1199.1,1205.1,1204.4,1201.3,1211.3,1208.3,1202.9,1205.8,1201.1,1208.2,1210.9,1202.2,1199.8,1200.4,1204.3,1201.3,1196.6,1199.1,1206.7,1205.0,1211.5,1214.4,1216.0,1213.3,1194.0,1203.3,1200.0,1194.6,1184.2,1184.0,1185.0,1200.7,1198.9,1219.0,1219.9,1221.0,1218.3,1217.7,1223.2,1220.1,1227.6,1233.6,1231.5,1232.7,1225.7,1231.8,1225.5,1225.6,1231.1,1224.0,1227.9,1227.3,1239.7,1241.2,1246.6,1244.4,1255.4,1259.6,1255.8,1261.7,1258.8,1253.5,1241.7,1254.5,1251.0,1256.1,1259.9,1268.9,1270.7,1270.5,1274.5,1278.6,1280.1,1278.5,1308.3,1301.3,1299.4,1303.2,1302.7,1303.0,1301.4,1302.2,1297.3,1299.3,1304.7,1306.5,1301.6,1299.0,1303.7,1304.4,1289.6,1292.0,1290.9,1291.3,1289.4,1291.5,1290.3,1318.2,1320.7,1322.3,1313.0,1313.7,1314.1,1314.7,1312.7,1305.6,1306.8,1319.2,1323.4,1317.9,1322.8,1333.0,1324.0,1338.3,1348.8,1353.5,1349.5,1350.7,1347.9,1341.9,1360.0,1345.9,1340.1,1336.1,1328.5,1340.2,1337.3,1346.9,1327.3,1324.2,1342.0,1355.0,1349.9,1327.4,1321.5,1311.9,1317.8,1312.3,1317.8,1325.6,1327.1,1320.8,1324.0,1321.7,1327.6,1335.2,1319.9,1323.4,1305.2,1317.9,1318.6,1332.8,1330.3,1332.7,1332.1,1331.2,1331.2,1356.2,1355.3,1358.0,1330.4,1326.4,1315.7,1319.0,1314.6,1329.5,1336.5,1337.3,1347.9,1343.1,1340.0,1340.3,1352.1,1362.9,1356.3,1336.7,1331.9,1333.1,1327.2,1339.2,1339.3,1337.1,1334.9,1322.5,1319.3,1313.7,1320.4,1322.3,1321.6,1318.5,1316.1,1309.3,1297.2,1291.4,1287.5,1278.8,1270.6,1269.6,1264.2,1265.5,1257.5,1257.1,1248.6,1241.7,1246.9,1248.4,1253.1,1266.1,1264.9,1277.7,1282.3,1276.7,1286.2,1294.9,1294.4,1289.2,1287.3,1292.2,1281.7,1275.3,1296.5,1278.2,1277.7,1282.9,1278.9,1274.2,1287.5,1283.7,1275.8,1281.6,1269.2,1278.1,1277.3,1270.5,1277.7,1271.8,1269.6,1279.0,1278.3,1280.9,1280.5,1290.0,1283.0,1286.2,1303.0,1304.6,1296.5,1288.9,1293.8,1285.0,1274.9,1273.2,1276.8,1274.6,1275.8,1284.8,1288.7,1287.8,1301.7,1311.5,1297.5,1294.8,1316.4,1310.6,1310.8,1325.2,1329.3,1328.0,1332.7,1335.7,1351.2,1350.3,1339.0,1342.6,1344.5,1330.4,1322.2,1314.1,1318.9,1315.3,1297.9,1292.0,1294.7,1291.0,1296.7,1291.6,1292.4,1282.9,1279.7,1290.4,1294.0,1290.1,1279.3,1262.6,1264.7,1264.6,1274.4,1278.4,1279.4,1273.4,1275.3,1260.0,1249.4,1252.1,1254.3,1254.9,1245.5,1242.0,1241.9,1233.7,1227.5,1217.3,1219.1,1214.7,1213.2,1209.7,1223.3,1223.4,1221.7,1219.2,1242.3,1245.8,1249.1,1246.9,1246.4,1256.4,1249.4,1245.8,1243.5,1246.7,1256.5,1254.6,1275.9,1268.6,1268.9,1271.4,1279.5,1293.2,1297.5,1282.7,1280.2,1270.1,1275.4,1265.7,1265.7,1268.1,1256.4,1253.1,1255.5,1261.4,1253.6,1252.8,1258.7,1236.4,1230.0,1227.7,1224.2,1218.9,1216.1,1227.1,1226.9,1228.6,1248.5,1257.0,1255.5,1268.3,1265.9,1264.2,1267.2,1277.5,1289.1,1283.8,1283.4,1294.1,1291.9,1288.5,1278.1,1274.2,1253.9,1257.3,1253.3,1248.5,1258.4,1254.0,1251.2,1248.0,1253.7,1255.6,1255.7,1248.5,1247.2,1249.7,1246.5,1234.0,1230.2,1227.1,1200.7,1202.6,1203.1,1201.4,1203.2,1209.4,1216.1,1225.5,1226.5,1232.9,1250.0,1253.9,1258.8,1258.3,1251.4,1233.3,1238.9,1238.9,1239.1,1241.6,1233.1,1225.4,1225.8,1235.9,1236.8,1239.5,1236.1,1232.1,1220.8,1219.4,1208.3,1211.4,1196.0,1191.1,1189.8,1197.8,1210.8,1215.6,1204.9,1201.5,1212.1,1214.3,1212.9,1196.2,1199.8,1196.6,1185.5,1184.9,1173.4,1181.3,1165.3,1162.0,1151.7,1158.1,1140.9,1138.8,1133.6,1130.7,1133.2,1133.6,1142.7,1137.4,1129.8,1163.7,1159.0,1165.8,1161.9,1172.4,1177.5,1170.1,1176.5,1177.8,1169.4,1173.9,1190.8,1190.8,1179.6,1178.4,1189.3,1211.2,1209.8,1208.7,1216.9,1223.9,1224.5,1221.7,1224.3,1266.4,1273.5,1274.5,1279.4,1304.5,1303.3,1308.2,1288.0,1273.1,1276.8,1269.5,1266.6,1273.6,1263.7,1267.7,1267.5,1269.9,1262.9,1256.6,1255.5,1257.6,1253.8,1255.9,1260.4,1251.9,1253.0,1268.6,1269.7,1312.7,1317.1,1326.0,1323.7,1330.4,1344.1,1341.7,1344.7,1331.4,1318.2,1317.8,1310.2,1318.0,1326.1,1323.7,1325.6,1334.5,1341.6,1349.2,1351.8,1354.0,1326.7,1317.1,1311.4,1316.5,1327.1,1325.9,1324.6,1329.7,1346.1,1343.4,1346.2,1357.2,1348.8,1356.9,1347.5,1343.2,1350.0,1351.9,1346.7,1341.3,1344.4,1367.4,1364.7,1372.6,1359.6,1357.5,1341.2,1326.7,1320.8,1319.5,1323.4,1331.0,1319.3,1332.3,1329.3,1327.4,1332.2,1343.6,1335.3,1356.6,1358.4,1362.1,1367.1,1360.6,1358.7,1339.0,1320.6,1326.9,1317.9,1324.7,1322.4,1263.1,1270.0,1272.5,1292.1,1294.8,1298.4,1288.3,1288.1,1286.9,1275.9,1272.7,1262.3,1247.0,1247.4,1242.9,1212.6,1214.7,1217.5,1217.5,1216.7,1220.4,1223.8,1229.2,1251.5,1252.9,1254.8,1274.4,1276.9,1274.2,1272.7,1271.2,1275.5,1264.8,1266.6,1294.0,1272.3,1274.4,1291.8,1295.8,1290.5,1266.4,1250.4,1243.4,1240.2,1230.0,1250.3,1254.4,1254.3,1235.0,1234.6,1226.5,1248.3,1260.9,1258.0,1243.8,1237.5,1223.8,1229.6,1219.3,1223.5,1235.6,1228.6,1235.8,1220.1,1221.6,1224.0,1248.6,1244.2,1254.3,1265.0,1229.8,1231.0,1245.1,1259.4,1272.8,1257.4,1262.9,1264.0,1270.7,1258.2,1241.8,1230.8,1234.4,1220.4,1238.8,1239.1,1222.6,1210.1,1230.8,1226.3,1211.4,1208.2,1208.2,1239.4,1247.8,1194.6,1198.6,1197.9,1157.7,1157.5,1141.3,1127.2,1128.0,1116.4,1116.1,1115.8,1120.2,1105.3,1096.3,1098.2,1106.2,1089.0,1089.1,1090.7,1073.6,1087.1,1085.2,1096.2,1097.9,1107.8,1091.9,1078.4,1075.2,1060.2,1059.8,1068.0,1068.3,1075.9,1068.3,1074.1,1080.6,1065.0,1049.6,1076.8,1061.6,1063.4,1075.7,1072.0,1076.5,1075.3,1075.2,1084.1,1061.2,1053.8,1063.5,1065.3,1056.2,1056.2,1070.0,1073.8,1066.8,1076.3,1077.9,1068.7,1068.6,1083.6,1080.9,1081.0,1084.9,1088.5,1088.1,1087.7,1104.2,1106.2,1114.1,1135.9,1141.4,1147.3,1176.1,1165.8,1166.2,1162.8,1166.1,1167.1,1177.5,1172.8,1183.1,1187.5,1179.8,1165.4,1164.5,1155.9,1144.3,1148.7,1146.4,1137.6,1136.6,1113.7,1115.2,1126.8,1131.7,1145.6,1153.8,1131.5,1124.8,1132.8,1137.8,1117.0,1119.0,1102.6,1107.7,1103.3,1109.3,1102.0,1120.8,1121.0,1121.4,1124.5,1133.6,1139.8,1132.5,1134.0,1122.6,1124.6,1138.3,1153.6,1159.6,1153.2,1127.9,1116.9,1118.4,1112.7,1115.6,1123.6,1107.7,1104.1,1094.1,1090.1,1085.6,1090.7,1089.4,1095.1,1088.7,1092.6,1096.2,1096.4,1085.5,1094.1,1091.5,1103.5,1106.8,1131.9,1143.9,1147.4,1153.5,1155.4,1157.9,1159.2,1163.5,1152.6,1173.7,1173.2,1163.5,1169.3,1171.8,1179.0,1173.2,1171.8,1172.9,1176.6,1184.1,1201.9,1202.0,1176.8,1180.9,1185.8,1179.2,1180.4,1186.6,1177.6,1173.6,1168.1,1175.2,1184.9,1194.4,1188.7,1189.8,1188.8,1185.6,1187.3,1186.9,1204.0,1204.1,1208.7,1206.7,1227.6,1225.3,1225.2,1218.2,1192.4,1183.0,1188.9,1182.2,1190.3,1193.2,1186.8,1174.5,1182.4,1210.0,1213.9,1203.2,1175.0,1194.3,1186.9,1203.1,1193.7,1203.1,1198.0,1201.3,1192.6,1199.3,1204.6,1193.6,1203.1,1210.6,1218.6,1200.9,1200.9,1208.2,1183.2,1185.3,1200.7,1204.8,1197.0,1191.4,1187.7,1184.6,1169.0,1151.3,1148.2,1153.2,1152.4,1151.9,1150.6,1160.1,1166.5,1164.3,1196.2,1200.9,1204.4,1208.2,1213.1,1210.1,1201.5,1197.3,1200.8,1204.9,1207.6,1200.2,1208.6,1208.6,1227.1,1220.7,1219.6,1232.2,1241.5,1234.6,1262.7,1264.5,1260.3,1276.9,1279.2,1255.9,1285.9,1291.7,1279.4,1292.6,1300.7,1293.7,1294.7,1294.2,1276.9,1264.8,1234.5,1234.4,1232.8,1216.1,1208.5,1210.7,1219.4,1204.0,1186.2,1184.1,1200.4,1181.9,1195.3,1173.5,1178.0,1179.8,1196.0,1194.8,1194.5,1194.3,1207.7,1222.5,1225.6,1229.4,1232.0,1194.9,1190.4,1207.7,1208.7,1199.4,1218.1,1175.5,1175.5,1196.6,1197.1,1195.7,1197.7,1190.9,1193.9,1197.1,1183.5,1185.6,1161.5,1159.1,1163.0,1159.8,1169.8,1142.6,1145.7,1167.7,1169.8,1171.6,1198.6,1224.9,1229.4,1229.3,1231.8,1229.1,1245.5,1251.7,1244.7,1239.0,1241.2,1244.8,1234.3,1230.0,1221.7,1225.3,1206.0,1212.4,1207.3,1192.9,1215.1,1215.5,1211.6,1218.8,1215.4,1221.9,1219.5,1222.0,1217.9,1216.6,1226.9,1235.9,1236.7,1235.1,1231.5,1239.0,1245.3,1248.5,1254.3,1267.3,1266.5,1270.3,1264.9,1265.0,1287.4,1290.4,1283.4,1285.2,1278.9,1280.2,1275.4,1295.2,1296.7,1299.3,1306.2,1315.7,1314.5,1310.6,1310.5,1311.0,1312.5,1308.2,1285.3,1288.9,1294.8,1282.8,1296.9,1298.3,1303.3,1303.3,1290.8,1304.7,1306.3,1313.9,1309.4,1316.9,1299.8,1297.1,1306.7,1337.4,1339.2,1324.3,1316.5,1317.6,1317.0,1320.6,1330.9,1326.6,1322.0,1320.0,1317.0,1322.6,1321.3,1318.4,1316.6,1314.1,1272.7,1272.0,1275.3,1274.1,1274.0,1261.2,1260.1,1253.9,1252.5,1253.3,1244.3,1244.5,1244.0,1246.0,1257.1,1259.3,1265.6,1265.5,1291.7,1295.0,1288.1,1294.6,1293.8,1293.4,1293.6,1305.9,1294.8,1295.8,1287.6,1287.7,1288.9,1308.6,1309.3,1302.9,1283.4,1295.9,1296.3,1299.0,1300.8,1290.6,1284.6,1281.1,1288.5,1293.9,1303.5,1300.3,1327.5,1319.0,1320.5,1305.9,1309.1,1298.3,1303.5,1284.6,1290.8,1280.0,1283.8,1294.3,1294.7,1303.4,1311.4,1311.2,1336.0,1330.5,1341.3,1359.0,1372.9,1379.0,1372.4,1370.5,1346.7,1341.5,1338.2,1351.8,1340.3,1337.9,1350.3,1321.6,1331.8,1328.0,1342.7,1338.0,1323.6,1316.9,1320.4,1324.4,1324.4,1318.6,1300.1,1295.0,1289.8,1274.7,1262.9,1257.2,1256.9,1251.2,1259.9,1239.8,1242.5,1262.2,1250.8,1263.4,1264.3,1262.3,1238.6,1241.8,1241.8,1251.9,1240.2,1238.3,1245.4,1251.1,1246.9,1229.4,1225.5,1229.6,1238.0,1238.6,1225.2,1202.3,1203.8,1214.0,1212.3,1203.3,1197.0,1203.7,1193.6,1235.0,1230.1,1244.4,1234.6,1224.9,1257.2,1261.1,1234.2,1229.0,1231.9,1247.2,1220.8,1221.9,1250.4,1250.4,1237.8,1241.4,1241.2,1244.1,1243.6,1258.0,1273.5,1272.3,1287.4,1286.3,1268.4,1271.2,1281.1,1284.6,1308.5,1317.8,1308.1,1314.7,1313.2,1323.7,1349.3,1345.5,1352.2,1352.5,1350.3,1334.0,1342.6,1315.8,1314.6,1323.0,1282.3,1273.2,1276.6,1268.2,1296.9,1307.2,1324.6,1325.1,1309.9,1317.6,1320.7,1286.1,1327.0,1339.2,1324.1,1336.2,1316.3,1327.0,1332.5,1369.3,1307.6,1309.4,1317.8,1308.6,1330.6,1363.8,1364.0,1386.7,1386.5,1373.0,1390.0,1411.8,1412.0,1396.1,1412.9,1418.8,1420.2,1393.1,1395.8,1370.8,1370.1,1372.6,1365.7,1371.0,1360.9,1333.4,1320.5,1334.2,1312.2,1309.9,1285.3,1282.5,1302.4,1310.5,1311.2,1313.0,1324.8,1328.4,1321.5,1328.8,1319.5,1334.7,1336.0,1292.9,1284.2,1277.5,1290.4,1283.5,1277.6,1279.9,1247.4,1245.9,1234.9,1213.3,1212.7,1251.9,1243.4,1255.7,1223.7,1211.6,1229.8,1275.1,1277.1,1292.0,1286.2,1374.0,1366.9,1383.1,1387.6,1377.8,1392.0,1377.0,1386.0,1383.0,1415.8,1398.5,1397.2,1411.9,1393.0,1412.0,1391.3,1379.3,1378.9,1386.6,1391.8,1367.4,1377.6,1384.1,1364.7,1386.9,1396.2,1424.5,1434.3,1436.6,1468.6,1473.7,1448.8,1468.0,1464.2,1467.6,1446.2,1472.1,1467.4,1453.6,1462.0,1423.7,1408.8,1421.2,1395.6,1392.5,1382.7,1387.4,1361.1,1501.4,1564.9,1558.8,1586.7,1572.5,1575.9,1552.4,1553.5,1575.9,1600.9,1595.7,1606.2,1595.7,1604.5,1606.1,1613.8,1607.5,1611.3,1604.6,1592.6,1590.7,1588.4,1591.7,1578.0,1576.9,1575.1,1574.9,1574.9,1572.4,1572.3,1578.1,1595.7,1615.5,1586.6,1572.8,1578.6,1578.0,1604.2,1604.2,1609.5,1635.5,1645.1,1649.6,1649.1,1666.9,1671.3,1678.8,1673.5,1676.4,1670.6,1662.0,1681.6,1660.8,1652.9,1656.6,1669.9,1686.7,1694.2,1693.2,1687.0,1690.8,1683.2,1683.9,1669.4,1660.6,1678.0,1655.5,1662.2,1646.3,1648.9,1674.6,1688.8,1675.8,1655.9,1663.7,1660.7,1659.5,1660.1,1645.9,1667.7,1670.7,1698.2,1697.0,1696.8,1717.9,1709.6,1714.4,1705.5,1701.8,1693.8,1695.8,1721.1,1712.7,1729.5,1716.5,1742.3,1749.6,1752.5,1751.4,1728.2,1723.6,1734.4,1714.7,1713.8,1730.1,1724.8,1730.9,1730.9,1726.0,1714.0,1715.0,1683.2,1675.2,1715.5,1719.1,1712.1,1708.7,1711.9,1713.0,1701.6,1709.4,1726.3,1724.0,1744.7,1753.0,1746.3,1737.6,1759.7,1770.6,1765.1,1765.0,1775.7,1780.8,1796.5,1779.8,1775.6,1783.3,1773.9,1780.5,1753.6,1766.4,1764.6,1778.0,1770.2,1771.7,1771.2,1770.6,1772.7,1772.1,1733.7,1734.9,1731.8,1740.5,1705.6,1694.0,1694.7,1696.0,1687.6,1657.1,1663.0,1669.7,1675.6,1672.9,1672.8,1640.5,1642.9,1623.0,1619.4,1619.2,1606.6,1602.4,1612.6,1622.8,1620.2,1616.0,1612.8,1616.2,1609.3,1590.7,1607.3,1614.6,1624.0,1622.7,1615.1,1608.1,1576.2,1577.4,1582.8,1580.4,1570.8,1589.5,1591.6,1592.0,1565.3,1575.7,1579.8,1589.1,1578.9,1610.5,1609.4,1621.8,1597.7,1604.2,1550.4,1578.4,1574.9,1588.4,1566.9,1565.5,1615.8,1623.2,1627.0,1628.1,1619.6,1619.4,1613.8,1596.8,1591.4,1588.0,1634.2,1616.9,1613.9,1622.1,1564.2,1565.7,1549.9,1548.7,1568.9,1557.5,1548.4,1576.6,1588.7,1591.9,1574.9,1536.6,1557.1,1561.0,1584.0,1595.5,1594.2,1604.5,1639.1,1645.2,1634.8,1654.0,1662.4,1664.2,1664.8,1660.5,1642.3,1643.8,1632.6,1642.8,1641.4,1639.6,1651.1,1649.7,1660.2,1680.6,1660.3,1660.7,1643.9,1630.1,1614.1,1672.0,1679.7,1671.9,1654.9,1657.9,1684.9,1685.6,1662.4,1642.5,1650.3,1647.0,1667.3,1655.8,1659.5,1642.9,1694.2,1699.8,1711.5,1698.7,1683.9,1672.1,1703.9,1709.8,1722.2,1711.3,1788.4,1774.9,1776.4,1786.3,1771.3,1758.5,1758.5,1725.9,1728.4,1728.1,1717.7,1724.9,1725.3,1741.2,1731.3,1748.4,1724.9,1740.3,1759.3,1749.5,1740.4,1734.4,1735.4,1726.7,1700.1,1664.5,1678.3,1664.0,1654.5,1659.9,1656.9,1655.6,1630.8,1647.7,1639.6,1631.5,1608.1,1616.8,1620.1,1612.7,1600.5],\"yaxis\":\"y\",\"type\":\"scattergl\"}],                        {\"template\":{\"data\":{\"histogram2dcontour\":[{\"type\":\"histogram2dcontour\",\"colorbar\":{\"outlinewidth\":0,\"ticks\":\"\"},\"colorscale\":[[0.0,\"#0d0887\"],[0.1111111111111111,\"#46039f\"],[0.2222222222222222,\"#7201a8\"],[0.3333333333333333,\"#9c179e\"],[0.4444444444444444,\"#bd3786\"],[0.5555555555555556,\"#d8576b\"],[0.6666666666666666,\"#ed7953\"],[0.7777777777777778,\"#fb9f3a\"],[0.8888888888888888,\"#fdca26\"],[1.0,\"#f0f921\"]]}],\"choropleth\":[{\"type\":\"choropleth\",\"colorbar\":{\"outlinewidth\":0,\"ticks\":\"\"}}],\"histogram2d\":[{\"type\":\"histogram2d\",\"colorbar\":{\"outlinewidth\":0,\"ticks\":\"\"},\"colorscale\":[[0.0,\"#0d0887\"],[0.1111111111111111,\"#46039f\"],[0.2222222222222222,\"#7201a8\"],[0.3333333333333333,\"#9c179e\"],[0.4444444444444444,\"#bd3786\"],[0.5555555555555556,\"#d8576b\"],[0.6666666666666666,\"#ed7953\"],[0.7777777777777778,\"#fb9f3a\"],[0.8888888888888888,\"#fdca26\"],[1.0,\"#f0f921\"]]}],\"heatmap\":[{\"type\":\"heatmap\",\"colorbar\":{\"outlinewidth\":0,\"ticks\":\"\"},\"colorscale\":[[0.0,\"#0d0887\"],[0.1111111111111111,\"#46039f\"],[0.2222222222222222,\"#7201a8\"],[0.3333333333333333,\"#9c179e\"],[0.4444444444444444,\"#bd3786\"],[0.5555555555555556,\"#d8576b\"],[0.6666666666666666,\"#ed7953\"],[0.7777777777777778,\"#fb9f3a\"],[0.8888888888888888,\"#fdca26\"],[1.0,\"#f0f921\"]]}],\"heatmapgl\":[{\"type\":\"heatmapgl\",\"colorbar\":{\"outlinewidth\":0,\"ticks\":\"\"},\"colorscale\":[[0.0,\"#0d0887\"],[0.1111111111111111,\"#46039f\"],[0.2222222222222222,\"#7201a8\"],[0.3333333333333333,\"#9c179e\"],[0.4444444444444444,\"#bd3786\"],[0.5555555555555556,\"#d8576b\"],[0.6666666666666666,\"#ed7953\"],[0.7777777777777778,\"#fb9f3a\"],[0.8888888888888888,\"#fdca26\"],[1.0,\"#f0f921\"]]}],\"contourcarpet\":[{\"type\":\"contourcarpet\",\"colorbar\":{\"outlinewidth\":0,\"ticks\":\"\"}}],\"contour\":[{\"type\":\"contour\",\"colorbar\":{\"outlinewidth\":0,\"ticks\":\"\"},\"colorscale\":[[0.0,\"#0d0887\"],[0.1111111111111111,\"#46039f\"],[0.2222222222222222,\"#7201a8\"],[0.3333333333333333,\"#9c179e\"],[0.4444444444444444,\"#bd3786\"],[0.5555555555555556,\"#d8576b\"],[0.6666666666666666,\"#ed7953\"],[0.7777777777777778,\"#fb9f3a\"],[0.8888888888888888,\"#fdca26\"],[1.0,\"#f0f921\"]]}],\"surface\":[{\"type\":\"surface\",\"colorbar\":{\"outlinewidth\":0,\"ticks\":\"\"},\"colorscale\":[[0.0,\"#0d0887\"],[0.1111111111111111,\"#46039f\"],[0.2222222222222222,\"#7201a8\"],[0.3333333333333333,\"#9c179e\"],[0.4444444444444444,\"#bd3786\"],[0.5555555555555556,\"#d8576b\"],[0.6666666666666666,\"#ed7953\"],[0.7777777777777778,\"#fb9f3a\"],[0.8888888888888888,\"#fdca26\"],[1.0,\"#f0f921\"]]}],\"mesh3d\":[{\"type\":\"mesh3d\",\"colorbar\":{\"outlinewidth\":0,\"ticks\":\"\"}}],\"scatter\":[{\"fillpattern\":{\"fillmode\":\"overlay\",\"size\":10,\"solidity\":0.2},\"type\":\"scatter\"}],\"parcoords\":[{\"type\":\"parcoords\",\"line\":{\"colorbar\":{\"outlinewidth\":0,\"ticks\":\"\"}}}],\"scatterpolargl\":[{\"type\":\"scatterpolargl\",\"marker\":{\"colorbar\":{\"outlinewidth\":0,\"ticks\":\"\"}}}],\"bar\":[{\"error_x\":{\"color\":\"#2a3f5f\"},\"error_y\":{\"color\":\"#2a3f5f\"},\"marker\":{\"line\":{\"color\":\"#E5ECF6\",\"width\":0.5},\"pattern\":{\"fillmode\":\"overlay\",\"size\":10,\"solidity\":0.2}},\"type\":\"bar\"}],\"scattergeo\":[{\"type\":\"scattergeo\",\"marker\":{\"colorbar\":{\"outlinewidth\":0,\"ticks\":\"\"}}}],\"scatterpolar\":[{\"type\":\"scatterpolar\",\"marker\":{\"colorbar\":{\"outlinewidth\":0,\"ticks\":\"\"}}}],\"histogram\":[{\"marker\":{\"pattern\":{\"fillmode\":\"overlay\",\"size\":10,\"solidity\":0.2}},\"type\":\"histogram\"}],\"scattergl\":[{\"type\":\"scattergl\",\"marker\":{\"colorbar\":{\"outlinewidth\":0,\"ticks\":\"\"}}}],\"scatter3d\":[{\"type\":\"scatter3d\",\"line\":{\"colorbar\":{\"outlinewidth\":0,\"ticks\":\"\"}},\"marker\":{\"colorbar\":{\"outlinewidth\":0,\"ticks\":\"\"}}}],\"scattermapbox\":[{\"type\":\"scattermapbox\",\"marker\":{\"colorbar\":{\"outlinewidth\":0,\"ticks\":\"\"}}}],\"scatterternary\":[{\"type\":\"scatterternary\",\"marker\":{\"colorbar\":{\"outlinewidth\":0,\"ticks\":\"\"}}}],\"scattercarpet\":[{\"type\":\"scattercarpet\",\"marker\":{\"colorbar\":{\"outlinewidth\":0,\"ticks\":\"\"}}}],\"carpet\":[{\"aaxis\":{\"endlinecolor\":\"#2a3f5f\",\"gridcolor\":\"white\",\"linecolor\":\"white\",\"minorgridcolor\":\"white\",\"startlinecolor\":\"#2a3f5f\"},\"baxis\":{\"endlinecolor\":\"#2a3f5f\",\"gridcolor\":\"white\",\"linecolor\":\"white\",\"minorgridcolor\":\"white\",\"startlinecolor\":\"#2a3f5f\"},\"type\":\"carpet\"}],\"table\":[{\"cells\":{\"fill\":{\"color\":\"#EBF0F8\"},\"line\":{\"color\":\"white\"}},\"header\":{\"fill\":{\"color\":\"#C8D4E3\"},\"line\":{\"color\":\"white\"}},\"type\":\"table\"}],\"barpolar\":[{\"marker\":{\"line\":{\"color\":\"#E5ECF6\",\"width\":0.5},\"pattern\":{\"fillmode\":\"overlay\",\"size\":10,\"solidity\":0.2}},\"type\":\"barpolar\"}],\"pie\":[{\"automargin\":true,\"type\":\"pie\"}]},\"layout\":{\"autotypenumbers\":\"strict\",\"colorway\":[\"#636efa\",\"#EF553B\",\"#00cc96\",\"#ab63fa\",\"#FFA15A\",\"#19d3f3\",\"#FF6692\",\"#B6E880\",\"#FF97FF\",\"#FECB52\"],\"font\":{\"color\":\"#2a3f5f\"},\"hovermode\":\"closest\",\"hoverlabel\":{\"align\":\"left\"},\"paper_bgcolor\":\"white\",\"plot_bgcolor\":\"#E5ECF6\",\"polar\":{\"bgcolor\":\"#E5ECF6\",\"angularaxis\":{\"gridcolor\":\"white\",\"linecolor\":\"white\",\"ticks\":\"\"},\"radialaxis\":{\"gridcolor\":\"white\",\"linecolor\":\"white\",\"ticks\":\"\"}},\"ternary\":{\"bgcolor\":\"#E5ECF6\",\"aaxis\":{\"gridcolor\":\"white\",\"linecolor\":\"white\",\"ticks\":\"\"},\"baxis\":{\"gridcolor\":\"white\",\"linecolor\":\"white\",\"ticks\":\"\"},\"caxis\":{\"gridcolor\":\"white\",\"linecolor\":\"white\",\"ticks\":\"\"}},\"coloraxis\":{\"colorbar\":{\"outlinewidth\":0,\"ticks\":\"\"}},\"colorscale\":{\"sequential\":[[0.0,\"#0d0887\"],[0.1111111111111111,\"#46039f\"],[0.2222222222222222,\"#7201a8\"],[0.3333333333333333,\"#9c179e\"],[0.4444444444444444,\"#bd3786\"],[0.5555555555555556,\"#d8576b\"],[0.6666666666666666,\"#ed7953\"],[0.7777777777777778,\"#fb9f3a\"],[0.8888888888888888,\"#fdca26\"],[1.0,\"#f0f921\"]],\"sequentialminus\":[[0.0,\"#0d0887\"],[0.1111111111111111,\"#46039f\"],[0.2222222222222222,\"#7201a8\"],[0.3333333333333333,\"#9c179e\"],[0.4444444444444444,\"#bd3786\"],[0.5555555555555556,\"#d8576b\"],[0.6666666666666666,\"#ed7953\"],[0.7777777777777778,\"#fb9f3a\"],[0.8888888888888888,\"#fdca26\"],[1.0,\"#f0f921\"]],\"diverging\":[[0,\"#8e0152\"],[0.1,\"#c51b7d\"],[0.2,\"#de77ae\"],[0.3,\"#f1b6da\"],[0.4,\"#fde0ef\"],[0.5,\"#f7f7f7\"],[0.6,\"#e6f5d0\"],[0.7,\"#b8e186\"],[0.8,\"#7fbc41\"],[0.9,\"#4d9221\"],[1,\"#276419\"]]},\"xaxis\":{\"gridcolor\":\"white\",\"linecolor\":\"white\",\"ticks\":\"\",\"title\":{\"standoff\":15},\"zerolinecolor\":\"white\",\"automargin\":true,\"zerolinewidth\":2},\"yaxis\":{\"gridcolor\":\"white\",\"linecolor\":\"white\",\"ticks\":\"\",\"title\":{\"standoff\":15},\"zerolinecolor\":\"white\",\"automargin\":true,\"zerolinewidth\":2},\"scene\":{\"xaxis\":{\"backgroundcolor\":\"#E5ECF6\",\"gridcolor\":\"white\",\"linecolor\":\"white\",\"showbackground\":true,\"ticks\":\"\",\"zerolinecolor\":\"white\",\"gridwidth\":2},\"yaxis\":{\"backgroundcolor\":\"#E5ECF6\",\"gridcolor\":\"white\",\"linecolor\":\"white\",\"showbackground\":true,\"ticks\":\"\",\"zerolinecolor\":\"white\",\"gridwidth\":2},\"zaxis\":{\"backgroundcolor\":\"#E5ECF6\",\"gridcolor\":\"white\",\"linecolor\":\"white\",\"showbackground\":true,\"ticks\":\"\",\"zerolinecolor\":\"white\",\"gridwidth\":2}},\"shapedefaults\":{\"line\":{\"color\":\"#2a3f5f\"}},\"annotationdefaults\":{\"arrowcolor\":\"#2a3f5f\",\"arrowhead\":0,\"arrowwidth\":1},\"geo\":{\"bgcolor\":\"white\",\"landcolor\":\"#E5ECF6\",\"subunitcolor\":\"white\",\"showland\":true,\"showlakes\":true,\"lakecolor\":\"white\"},\"title\":{\"x\":0.05},\"mapbox\":{\"style\":\"light\"}}},\"xaxis\":{\"anchor\":\"y\",\"domain\":[0.0,1.0],\"title\":{\"text\":\"Date\"}},\"yaxis\":{\"anchor\":\"x\",\"domain\":[0.0,1.0],\"title\":{\"text\":\"ScaledPrice\"}},\"legend\":{\"tracegroupgap\":0},\"margin\":{\"t\":60},\"title\":{\"text\":\"Gold Price History Data\",\"y\":0.95,\"x\":0.5,\"xanchor\":\"center\",\"yanchor\":\"top\"},\"plot_bgcolor\":\"rgba(255,223,0,0.8)\"},                        {\"responsive\": true}                    ).then(function(){\n",
              "                            \n",
              "var gd = document.getElementById('873143f4-80f7-4402-bb4c-5c3164d43bee');\n",
              "var x = new MutationObserver(function (mutations, observer) {{\n",
              "        var display = window.getComputedStyle(gd).display;\n",
              "        if (!display || display === 'none') {{\n",
              "            console.log([gd, 'removed!']);\n",
              "            Plotly.purge(gd);\n",
              "            observer.disconnect();\n",
              "        }}\n",
              "}});\n",
              "\n",
              "// Listen for the removal of the full notebook cells\n",
              "var notebookContainer = gd.closest('#notebook-container');\n",
              "if (notebookContainer) {{\n",
              "    x.observe(notebookContainer, {childList: true});\n",
              "}}\n",
              "\n",
              "// Listen for the clearing of the current output cell\n",
              "var outputEl = gd.closest('.output');\n",
              "if (outputEl) {{\n",
              "    x.observe(outputEl, {childList: true});\n",
              "}}\n",
              "\n",
              "                        })                };                            </script>        </div>\n",
              "</body>\n",
              "</html>"
            ]
          },
          "metadata": {}
        }
      ]
    },
    {
      "cell_type": "code",
      "source": [
        "from sklearn.model_selection import train_test_split"
      ],
      "metadata": {
        "id": "0StzfIc2ADHU"
      },
      "execution_count": null,
      "outputs": []
    },
    {
      "cell_type": "code",
      "source": [
        "# for testing data we will take the last year only"
      ],
      "metadata": {
        "id": "DSRNZfsRA6zs"
      },
      "execution_count": null,
      "outputs": []
    },
    {
      "cell_type": "code",
      "source": [
        "max(df['Date'])"
      ],
      "metadata": {
        "colab": {
          "base_uri": "https://localhost:8080/",
          "height": 36
        },
        "id": "bkKtY4TZBJWl",
        "outputId": "c40fd2d6-cace-4a0f-a1c9-fca2ece4771c"
      },
      "execution_count": null,
      "outputs": [
        {
          "output_type": "execute_result",
          "data": {
            "text/plain": [
              "'2023-12-10'"
            ],
            "application/vnd.google.colaboratory.intrinsic+json": {
              "type": "string"
            }
          },
          "metadata": {},
          "execution_count": 37
        }
      ]
    },
    {
      "cell_type": "code",
      "source": [
        "\n",
        "df['Date'] = pd.to_datetime(df['Date'])\n",
        "\n",
        "\n",
        "test_size = df[df.Date.dt.year==2023].shape[0]\n",
        "print(test_size)"
      ],
      "metadata": {
        "colab": {
          "base_uri": "https://localhost:8080/"
        },
        "id": "KUE1-5E0Bn20",
        "outputId": "9d9e54c4-3fd1-464c-d4ef-b994415562eb"
      },
      "execution_count": null,
      "outputs": [
        {
          "output_type": "stream",
          "name": "stdout",
          "text": [
            "219\n"
          ]
        }
      ]
    },
    {
      "cell_type": "code",
      "source": [],
      "metadata": {
        "id": "icT_vkaEFV9l"
      },
      "execution_count": null,
      "outputs": []
    }
  ]
}